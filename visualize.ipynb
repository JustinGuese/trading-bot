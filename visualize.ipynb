{
 "cells": [
  {
   "cell_type": "markdown",
   "metadata": {},
   "source": [
    "# Visualization: Trading Session"
   ]
  },
  {
   "cell_type": "code",
   "execution_count": 1,
   "metadata": {},
   "outputs": [],
   "source": [
    "import pandas as pd\n",
    "import numpy as np\n",
    "\n",
    "import altair as alt\n",
    "import seaborn as sns"
   ]
  },
  {
   "cell_type": "markdown",
   "metadata": {},
   "source": [
    "### 1. Define parameters and Load model"
   ]
  },
  {
   "cell_type": "code",
   "execution_count": 3,
   "metadata": {},
   "outputs": [],
   "source": [
    "from trading_bot.agent import Agent\n",
    "\n",
    "model_name = 'GOOG1d_50'\n",
    "test_stock = 'data/GOOG_1d_test.csv'\n",
    "window_size = 10\n",
    "debug = True\n",
    "\n",
    "agent = Agent(window_size, pretrained=True, model_name=model_name)"
   ]
  },
  {
   "cell_type": "markdown",
   "metadata": {},
   "source": [
    "### 2. Load test data"
   ]
  },
  {
   "cell_type": "code",
   "execution_count": 4,
   "metadata": {},
   "outputs": [
    {
     "data": {
      "text/html": [
       "<div>\n",
       "<style scoped>\n",
       "    .dataframe tbody tr th:only-of-type {\n",
       "        vertical-align: middle;\n",
       "    }\n",
       "\n",
       "    .dataframe tbody tr th {\n",
       "        vertical-align: top;\n",
       "    }\n",
       "\n",
       "    .dataframe thead th {\n",
       "        text-align: right;\n",
       "    }\n",
       "</style>\n",
       "<table border=\"1\" class=\"dataframe\">\n",
       "  <thead>\n",
       "    <tr style=\"text-align: right;\">\n",
       "      <th></th>\n",
       "      <th>date</th>\n",
       "      <th>actual</th>\n",
       "    </tr>\n",
       "  </thead>\n",
       "  <tbody>\n",
       "    <tr>\n",
       "      <th>0</th>\n",
       "      <td>2019-01-30</td>\n",
       "      <td>1089.060059</td>\n",
       "    </tr>\n",
       "    <tr>\n",
       "      <th>1</th>\n",
       "      <td>2019-01-31</td>\n",
       "      <td>1116.369995</td>\n",
       "    </tr>\n",
       "    <tr>\n",
       "      <th>2</th>\n",
       "      <td>2019-02-01</td>\n",
       "      <td>1110.750000</td>\n",
       "    </tr>\n",
       "    <tr>\n",
       "      <th>3</th>\n",
       "      <td>2019-02-04</td>\n",
       "      <td>1132.800049</td>\n",
       "    </tr>\n",
       "    <tr>\n",
       "      <th>4</th>\n",
       "      <td>2019-02-05</td>\n",
       "      <td>1145.989990</td>\n",
       "    </tr>\n",
       "  </tbody>\n",
       "</table>\n",
       "</div>"
      ],
      "text/plain": [
       "        date       actual\n",
       "0 2019-01-30  1089.060059\n",
       "1 2019-01-31  1116.369995\n",
       "2 2019-02-01  1110.750000\n",
       "3 2019-02-04  1132.800049\n",
       "4 2019-02-05  1145.989990"
      ]
     },
     "execution_count": 4,
     "metadata": {},
     "output_type": "execute_result"
    }
   ],
   "source": [
    "# read csv into dataframe\n",
    "df = pd.read_csv(test_stock)\n",
    "# filter out the desired features\n",
    "df = df[['Date', 'Adj Close']]\n",
    "# rename feature column names\n",
    "df = df.rename(columns={'Adj Close': 'actual', 'Date': 'date'})\n",
    "# convert dates from object to DateTime type\n",
    "dates = df['date']\n",
    "dates = pd.to_datetime(dates, infer_datetime_format=True)\n",
    "df['date'] = dates\n",
    "\n",
    "df.head()"
   ]
  },
  {
   "cell_type": "markdown",
   "metadata": {},
   "source": [
    "### 3. Running Eval"
   ]
  },
  {
   "cell_type": "code",
   "execution_count": 5,
   "metadata": {},
   "outputs": [
    {
     "name": "stderr",
     "output_type": "stream",
     "text": [
      "2020-09-07 11:48:22 justin-desktop-ubuntu root[33028] DEBUG switching to TensorFlow for CPU\n",
      "2020-09-07 11:48:22 justin-desktop-ubuntu root[33028] DEBUG Buy at: $1089.06\n",
      "2020-09-07 11:48:23 justin-desktop-ubuntu root[33028] DEBUG Sell at: $1116.37 | Position: +$27.31\n",
      "2020-09-07 11:48:23 justin-desktop-ubuntu root[33028] DEBUG Buy at: $1231.54\n",
      "2020-09-07 11:48:23 justin-desktop-ubuntu root[33028] DEBUG Sell at: $1205.50 | Position: -$26.04\n",
      "2020-09-07 11:48:23 justin-desktop-ubuntu root[33028] DEBUG Buy at: $1092.50\n",
      "2020-09-07 11:48:23 justin-desktop-ubuntu root[33028] DEBUG Sell at: $1111.42 | Position: +$18.92\n",
      "2020-09-07 11:48:23 justin-desktop-ubuntu root[33028] DEBUG Buy at: $1177.60\n",
      "2020-09-07 11:48:23 justin-desktop-ubuntu root[33028] DEBUG Sell at: $1192.85 | Position: +$15.25\n",
      "2020-09-07 11:48:23 justin-desktop-ubuntu root[33028] DEBUG Buy at: $1241.39\n",
      "2020-09-07 11:48:23 justin-desktop-ubuntu root[33028] DEBUG Sell at: $1225.09 | Position: -$16.30\n",
      "2020-09-07 11:48:23 justin-desktop-ubuntu root[33028] DEBUG Buy at: $1259.13\n",
      "2020-09-07 11:48:23 justin-desktop-ubuntu root[33028] DEBUG Sell at: $1260.99 | Position: +$1.86\n",
      "2020-09-07 11:48:23 justin-desktop-ubuntu root[33028] DEBUG Buy at: $1304.96\n",
      "2020-09-07 11:48:23 justin-desktop-ubuntu root[33028] DEBUG Sell at: $1320.54 | Position: +$15.58\n",
      "2020-09-07 11:48:23 justin-desktop-ubuntu root[33028] DEBUG Buy at: $1479.23\n",
      "2020-09-07 11:48:23 justin-desktop-ubuntu root[33028] DEBUG Sell at: $1508.79 | Position: +$29.56\n",
      "2020-09-07 11:48:23 justin-desktop-ubuntu root[33028] DEBUG Buy at: $1421.59\n",
      "2020-09-07 11:48:23 justin-desktop-ubuntu root[33028] DEBUG Sell at: $1339.33 | Position: -$82.26\n",
      "2020-09-07 11:48:23 justin-desktop-ubuntu root[33028] DEBUG Buy at: $1319.04\n",
      "2020-09-07 11:48:23 justin-desktop-ubuntu root[33028] DEBUG Buy at: $1215.56\n",
      "2020-09-07 11:48:23 justin-desktop-ubuntu root[33028] DEBUG Buy at: $1280.39\n",
      "2020-09-07 11:48:23 justin-desktop-ubuntu root[33028] DEBUG Buy at: $1072.32\n",
      "2020-09-07 11:48:23 justin-desktop-ubuntu root[33028] DEBUG Sell at: $1110.71 | Position: -$208.33\n",
      "2020-09-07 11:48:23 justin-desktop-ubuntu root[33028] DEBUG Sell at: $1320.61 | Position: +$105.05\n",
      "2020-09-07 11:48:23 justin-desktop-ubuntu root[33028] DEBUG Sell at: $1351.11 | Position: +$70.72\n",
      "2020-09-07 11:48:23 justin-desktop-ubuntu root[33028] DEBUG Sell at: $1388.37 | Position: +$316.05\n",
      "2020-09-07 11:48:23 justin-desktop-ubuntu root[33028] DEBUG Buy at: $1438.04\n",
      "2020-09-07 11:48:23 justin-desktop-ubuntu root[33028] DEBUG Sell at: $1464.70 | Position: +$26.66\n",
      "2020-09-07 11:48:23 justin-desktop-ubuntu root[33028] INFO GOOG1d_50: +$294.03\n",
      "\n"
     ]
    },
    {
     "name": "stdout",
     "output_type": "stream",
     "text": [
      "Final decision:  HOLD  at  $1641.84\n"
     ]
    }
   ],
   "source": [
    "import logging\n",
    "import coloredlogs\n",
    "\n",
    "from trading_bot.utils import show_eval_result, switch_k_backend_device, get_stock_data\n",
    "from trading_bot.methods import evaluate_model\n",
    "\n",
    "coloredlogs.install(level='DEBUG')\n",
    "switch_k_backend_device()\n",
    "\n",
    "test_data = get_stock_data(test_stock)\n",
    "initial_offset = test_data[1] - test_data[0]\n",
    "\n",
    "test_result, history = evaluate_model(agent, test_data, window_size, debug)\n",
    "show_eval_result(model_name, test_result, initial_offset)"
   ]
  },
  {
   "cell_type": "markdown",
   "metadata": {},
   "source": [
    "### 4. Visualize"
   ]
  },
  {
   "cell_type": "code",
   "execution_count": 6,
   "metadata": {},
   "outputs": [],
   "source": [
    "def visualize(df, history, title=\"trading session\"):\n",
    "    # add history to dataframe\n",
    "    position = [history[0][0]] + [x[0] for x in history]\n",
    "    actions = ['HOLD'] + [x[1] for x in history]\n",
    "    df['position'] = position\n",
    "    df['action'] = actions\n",
    "    \n",
    "    # specify y-axis scale for stock prices\n",
    "    scale = alt.Scale(domain=(min(min(df['actual']), min(df['position'])) - 50, max(max(df['actual']), max(df['position'])) + 50), clamp=True)\n",
    "    \n",
    "    # plot a line chart for stock positions\n",
    "    actual = alt.Chart(df).mark_line(\n",
    "        color='green',\n",
    "        opacity=0.5\n",
    "    ).encode(\n",
    "        x='date:T',\n",
    "        y=alt.Y('position', axis=alt.Axis(format='$.2f', title='Price'), scale=scale)\n",
    "    ).interactive(\n",
    "        bind_y=False\n",
    "    )\n",
    "    \n",
    "    # plot the BUY and SELL actions as points\n",
    "    points = alt.Chart(df).transform_filter(\n",
    "        alt.datum.action != 'HOLD'\n",
    "    ).mark_point(\n",
    "        filled=True\n",
    "    ).encode(\n",
    "        x=alt.X('date:T', axis=alt.Axis(title='Date')),\n",
    "        y=alt.Y('position', axis=alt.Axis(format='$.2f', title='Price'), scale=scale),\n",
    "        color='action'\n",
    "    ).interactive(bind_y=False)\n",
    "\n",
    "    # merge the two charts\n",
    "    chart = alt.layer(actual, points, title=title).properties(height=300, width=1000)\n",
    "    \n",
    "    return chart"
   ]
  },
  {
   "cell_type": "code",
   "execution_count": 7,
   "metadata": {},
   "outputs": [
    {
     "data": {
      "text/html": [
       "\n",
       "<div id=\"altair-viz-1\"></div>\n",
       "<script type=\"text/javascript\">\n",
       "  (function(spec, embedOpt){\n",
       "    const outputDiv = document.getElementById(\"altair-viz-1\");\n",
       "    const paths = {\n",
       "      \"vega\": \"https://cdn.jsdelivr.net/npm//vega@5?noext\",\n",
       "      \"vega-lib\": \"https://cdn.jsdelivr.net/npm//vega-lib?noext\",\n",
       "      \"vega-lite\": \"https://cdn.jsdelivr.net/npm//vega-lite@4.0.0?noext\",\n",
       "      \"vega-embed\": \"https://cdn.jsdelivr.net/npm//vega-embed@6?noext\",\n",
       "    };\n",
       "\n",
       "    function loadScript(lib) {\n",
       "      return new Promise(function(resolve, reject) {\n",
       "        var s = document.createElement('script');\n",
       "        s.src = paths[lib];\n",
       "        s.async = true;\n",
       "        s.onload = () => resolve(paths[lib]);\n",
       "        s.onerror = () => reject(`Error loading script: ${paths[lib]}`);\n",
       "        document.getElementsByTagName(\"head\")[0].appendChild(s);\n",
       "      });\n",
       "    }\n",
       "\n",
       "    function showError(err) {\n",
       "      outputDiv.innerHTML = `<div class=\"error\" style=\"color:red;\">${err}</div>`;\n",
       "      throw err;\n",
       "    }\n",
       "\n",
       "    function displayChart(vegaEmbed) {\n",
       "      vegaEmbed(outputDiv, spec, embedOpt)\n",
       "        .catch(err => showError(`Javascript Error: ${err.message}<br>This usually means there's a typo in your chart specification. See the javascript console for the full traceback.`));\n",
       "    }\n",
       "\n",
       "    if(typeof define === \"function\" && define.amd) {\n",
       "      requirejs.config({paths});\n",
       "      require([\"vega-embed\"], displayChart, err => showError(`Error loading script: ${err.message}`));\n",
       "    } else if (typeof vegaEmbed === \"function\") {\n",
       "      displayChart(vegaEmbed);\n",
       "    } else {\n",
       "      loadScript(\"vega\")\n",
       "        .then(() => loadScript(\"vega-lite\"))\n",
       "        .then(() => loadScript(\"vega-embed\"))\n",
       "        .catch(showError)\n",
       "        .then(() => displayChart(vegaEmbed));\n",
       "    }\n",
       "  })({\"config\": {\"view\": {\"continuousWidth\": 400, \"continuousHeight\": 300}}, \"layer\": [{\"mark\": {\"type\": \"line\", \"color\": \"green\", \"opacity\": 0.5}, \"encoding\": {\"x\": {\"type\": \"temporal\", \"field\": \"date\"}, \"y\": {\"type\": \"quantitative\", \"axis\": {\"format\": \"$.2f\", \"title\": \"Price\"}, \"field\": \"position\", \"scale\": {\"clamp\": true, \"domain\": [986.22998046875, 1778.280029296875]}}}, \"selection\": {\"selector001\": {\"type\": \"interval\", \"bind\": \"scales\", \"encodings\": [\"x\"]}}}, {\"mark\": {\"type\": \"point\", \"filled\": true}, \"encoding\": {\"color\": {\"type\": \"nominal\", \"field\": \"action\"}, \"x\": {\"type\": \"temporal\", \"axis\": {\"title\": \"Date\"}, \"field\": \"date\"}, \"y\": {\"type\": \"quantitative\", \"axis\": {\"format\": \"$.2f\", \"title\": \"Price\"}, \"field\": \"position\", \"scale\": {\"clamp\": true, \"domain\": [986.22998046875, 1778.280029296875]}}}, \"selection\": {\"selector002\": {\"type\": \"interval\", \"bind\": \"scales\", \"encodings\": [\"x\"]}}, \"transform\": [{\"filter\": \"(datum.action !== 'HOLD')\"}]}], \"data\": {\"name\": \"data-3d6769919069f591aebdd9d347863ab8\"}, \"height\": 300, \"title\": \"data/GOOG_1d_test.csv\", \"width\": 1000, \"$schema\": \"https://vega.github.io/schema/vega-lite/v4.0.0.json\", \"datasets\": {\"data-3d6769919069f591aebdd9d347863ab8\": [{\"date\": \"2019-01-30T00:00:00\", \"actual\": 1089.06005859375, \"position\": 1089.06005859375, \"action\": \"HOLD\"}, {\"date\": \"2019-01-31T00:00:00\", \"actual\": 1116.3699951171877, \"position\": 1089.06005859375, \"action\": \"BUY\"}, {\"date\": \"2019-02-01T00:00:00\", \"actual\": 1110.75, \"position\": 1116.3699951171877, \"action\": \"SELL\"}, {\"date\": \"2019-02-04T00:00:00\", \"actual\": 1132.800048828125, \"position\": 1110.75, \"action\": \"HOLD\"}, {\"date\": \"2019-02-05T00:00:00\", \"actual\": 1145.989990234375, \"position\": 1132.800048828125, \"action\": \"HOLD\"}, {\"date\": \"2019-02-06T00:00:00\", \"actual\": 1115.22998046875, \"position\": 1145.989990234375, \"action\": \"HOLD\"}, {\"date\": \"2019-02-07T00:00:00\", \"actual\": 1098.7099609375, \"position\": 1115.22998046875, \"action\": \"HOLD\"}, {\"date\": \"2019-02-08T00:00:00\", \"actual\": 1095.06005859375, \"position\": 1098.7099609375, \"action\": \"HOLD\"}, {\"date\": \"2019-02-11T00:00:00\", \"actual\": 1095.010009765625, \"position\": 1095.06005859375, \"action\": \"HOLD\"}, {\"date\": \"2019-02-12T00:00:00\", \"actual\": 1121.3699951171877, \"position\": 1095.010009765625, \"action\": \"HOLD\"}, {\"date\": \"2019-02-13T00:00:00\", \"actual\": 1120.1600341796877, \"position\": 1121.3699951171877, \"action\": \"HOLD\"}, {\"date\": \"2019-02-14T00:00:00\", \"actual\": 1121.6700439453123, \"position\": 1120.1600341796877, \"action\": \"HOLD\"}, {\"date\": \"2019-02-15T00:00:00\", \"actual\": 1113.6500244140623, \"position\": 1121.6700439453123, \"action\": \"HOLD\"}, {\"date\": \"2019-02-19T00:00:00\", \"actual\": 1118.56005859375, \"position\": 1113.6500244140623, \"action\": \"HOLD\"}, {\"date\": \"2019-02-20T00:00:00\", \"actual\": 1113.800048828125, \"position\": 1118.56005859375, \"action\": \"HOLD\"}, {\"date\": \"2019-02-21T00:00:00\", \"actual\": 1096.969970703125, \"position\": 1113.800048828125, \"action\": \"HOLD\"}, {\"date\": \"2019-02-22T00:00:00\", \"actual\": 1110.3699951171877, \"position\": 1096.969970703125, \"action\": \"HOLD\"}, {\"date\": \"2019-02-25T00:00:00\", \"actual\": 1109.4000244140623, \"position\": 1110.3699951171877, \"action\": \"HOLD\"}, {\"date\": \"2019-02-26T00:00:00\", \"actual\": 1115.1300048828123, \"position\": 1109.4000244140623, \"action\": \"HOLD\"}, {\"date\": \"2019-02-27T00:00:00\", \"actual\": 1116.050048828125, \"position\": 1115.1300048828123, \"action\": \"HOLD\"}, {\"date\": \"2019-02-28T00:00:00\", \"actual\": 1119.9200439453123, \"position\": 1116.050048828125, \"action\": \"HOLD\"}, {\"date\": \"2019-03-01T00:00:00\", \"actual\": 1140.989990234375, \"position\": 1119.9200439453123, \"action\": \"HOLD\"}, {\"date\": \"2019-03-04T00:00:00\", \"actual\": 1147.800048828125, \"position\": 1140.989990234375, \"action\": \"HOLD\"}, {\"date\": \"2019-03-05T00:00:00\", \"actual\": 1162.030029296875, \"position\": 1147.800048828125, \"action\": \"HOLD\"}, {\"date\": \"2019-03-06T00:00:00\", \"actual\": 1157.8599853515625, \"position\": 1162.030029296875, \"action\": \"HOLD\"}, {\"date\": \"2019-03-07T00:00:00\", \"actual\": 1143.300048828125, \"position\": 1157.8599853515625, \"action\": \"HOLD\"}, {\"date\": \"2019-03-08T00:00:00\", \"actual\": 1142.3199462890625, \"position\": 1143.300048828125, \"action\": \"HOLD\"}, {\"date\": \"2019-03-11T00:00:00\", \"actual\": 1175.760009765625, \"position\": 1142.3199462890625, \"action\": \"HOLD\"}, {\"date\": \"2019-03-12T00:00:00\", \"actual\": 1193.199951171875, \"position\": 1175.760009765625, \"action\": \"HOLD\"}, {\"date\": \"2019-03-13T00:00:00\", \"actual\": 1193.3199462890625, \"position\": 1193.199951171875, \"action\": \"HOLD\"}, {\"date\": \"2019-03-14T00:00:00\", \"actual\": 1185.550048828125, \"position\": 1193.3199462890625, \"action\": \"HOLD\"}, {\"date\": \"2019-03-15T00:00:00\", \"actual\": 1184.4599609375, \"position\": 1185.550048828125, \"action\": \"HOLD\"}, {\"date\": \"2019-03-18T00:00:00\", \"actual\": 1184.260009765625, \"position\": 1184.4599609375, \"action\": \"HOLD\"}, {\"date\": \"2019-03-19T00:00:00\", \"actual\": 1198.8499755859375, \"position\": 1184.260009765625, \"action\": \"HOLD\"}, {\"date\": \"2019-03-20T00:00:00\", \"actual\": 1223.969970703125, \"position\": 1198.8499755859375, \"action\": \"HOLD\"}, {\"date\": \"2019-03-21T00:00:00\", \"actual\": 1231.5400390625, \"position\": 1223.969970703125, \"action\": \"HOLD\"}, {\"date\": \"2019-03-22T00:00:00\", \"actual\": 1205.5, \"position\": 1231.5400390625, \"action\": \"BUY\"}, {\"date\": \"2019-03-25T00:00:00\", \"actual\": 1193.0, \"position\": 1205.5, \"action\": \"SELL\"}, {\"date\": \"2019-03-26T00:00:00\", \"actual\": 1184.6199951171875, \"position\": 1193.0, \"action\": \"HOLD\"}, {\"date\": \"2019-03-27T00:00:00\", \"actual\": 1173.02001953125, \"position\": 1184.6199951171875, \"action\": \"HOLD\"}, {\"date\": \"2019-03-28T00:00:00\", \"actual\": 1168.489990234375, \"position\": 1173.02001953125, \"action\": \"HOLD\"}, {\"date\": \"2019-03-29T00:00:00\", \"actual\": 1173.31005859375, \"position\": 1168.489990234375, \"action\": \"HOLD\"}, {\"date\": \"2019-04-01T00:00:00\", \"actual\": 1194.4300537109375, \"position\": 1173.31005859375, \"action\": \"HOLD\"}, {\"date\": \"2019-04-02T00:00:00\", \"actual\": 1200.489990234375, \"position\": 1194.4300537109375, \"action\": \"HOLD\"}, {\"date\": \"2019-04-03T00:00:00\", \"actual\": 1205.9200439453125, \"position\": 1200.489990234375, \"action\": \"HOLD\"}, {\"date\": \"2019-04-04T00:00:00\", \"actual\": 1215.0, \"position\": 1205.9200439453125, \"action\": \"HOLD\"}, {\"date\": \"2019-04-05T00:00:00\", \"actual\": 1207.1500244140625, \"position\": 1215.0, \"action\": \"HOLD\"}, {\"date\": \"2019-04-08T00:00:00\", \"actual\": 1203.8399658203125, \"position\": 1207.1500244140625, \"action\": \"HOLD\"}, {\"date\": \"2019-04-09T00:00:00\", \"actual\": 1197.25, \"position\": 1203.8399658203125, \"action\": \"HOLD\"}, {\"date\": \"2019-04-10T00:00:00\", \"actual\": 1202.1600341796875, \"position\": 1197.25, \"action\": \"HOLD\"}, {\"date\": \"2019-04-11T00:00:00\", \"actual\": 1204.6199951171875, \"position\": 1202.1600341796875, \"action\": \"HOLD\"}, {\"date\": \"2019-04-12T00:00:00\", \"actual\": 1217.8699951171875, \"position\": 1204.6199951171875, \"action\": \"HOLD\"}, {\"date\": \"2019-04-15T00:00:00\", \"actual\": 1221.0999755859375, \"position\": 1217.8699951171875, \"action\": \"HOLD\"}, {\"date\": \"2019-04-16T00:00:00\", \"actual\": 1227.1300048828125, \"position\": 1221.0999755859375, \"action\": \"HOLD\"}, {\"date\": \"2019-04-17T00:00:00\", \"actual\": 1236.3399658203125, \"position\": 1227.1300048828125, \"action\": \"HOLD\"}, {\"date\": \"2019-04-18T00:00:00\", \"actual\": 1236.3699951171875, \"position\": 1236.3399658203125, \"action\": \"HOLD\"}, {\"date\": \"2019-04-22T00:00:00\", \"actual\": 1248.8399658203125, \"position\": 1236.3699951171875, \"action\": \"HOLD\"}, {\"date\": \"2019-04-23T00:00:00\", \"actual\": 1264.550048828125, \"position\": 1248.8399658203125, \"action\": \"HOLD\"}, {\"date\": \"2019-04-24T00:00:00\", \"actual\": 1256.0, \"position\": 1264.550048828125, \"action\": \"HOLD\"}, {\"date\": \"2019-04-25T00:00:00\", \"actual\": 1263.449951171875, \"position\": 1256.0, \"action\": \"HOLD\"}, {\"date\": \"2019-04-26T00:00:00\", \"actual\": 1272.1800537109375, \"position\": 1263.449951171875, \"action\": \"HOLD\"}, {\"date\": \"2019-04-29T00:00:00\", \"actual\": 1287.5799560546875, \"position\": 1272.1800537109375, \"action\": \"HOLD\"}, {\"date\": \"2019-04-30T00:00:00\", \"actual\": 1188.47998046875, \"position\": 1287.5799560546875, \"action\": \"HOLD\"}, {\"date\": \"2019-05-01T00:00:00\", \"actual\": 1168.0799560546875, \"position\": 1188.47998046875, \"action\": \"HOLD\"}, {\"date\": \"2019-05-02T00:00:00\", \"actual\": 1162.6099853515625, \"position\": 1168.0799560546875, \"action\": \"HOLD\"}, {\"date\": \"2019-05-03T00:00:00\", \"actual\": 1185.4000244140625, \"position\": 1162.6099853515625, \"action\": \"HOLD\"}, {\"date\": \"2019-05-06T00:00:00\", \"actual\": 1189.3900146484375, \"position\": 1185.4000244140625, \"action\": \"HOLD\"}, {\"date\": \"2019-05-07T00:00:00\", \"actual\": 1174.0999755859375, \"position\": 1189.3900146484375, \"action\": \"HOLD\"}, {\"date\": \"2019-05-08T00:00:00\", \"actual\": 1166.27001953125, \"position\": 1174.0999755859375, \"action\": \"HOLD\"}, {\"date\": \"2019-05-09T00:00:00\", \"actual\": 1162.3800048828125, \"position\": 1166.27001953125, \"action\": \"HOLD\"}, {\"date\": \"2019-05-10T00:00:00\", \"actual\": 1164.27001953125, \"position\": 1162.3800048828125, \"action\": \"HOLD\"}, {\"date\": \"2019-05-13T00:00:00\", \"actual\": 1132.030029296875, \"position\": 1164.27001953125, \"action\": \"HOLD\"}, {\"date\": \"2019-05-14T00:00:00\", \"actual\": 1120.43994140625, \"position\": 1132.030029296875, \"action\": \"HOLD\"}, {\"date\": \"2019-05-15T00:00:00\", \"actual\": 1164.2099609375, \"position\": 1120.43994140625, \"action\": \"HOLD\"}, {\"date\": \"2019-05-16T00:00:00\", \"actual\": 1178.97998046875, \"position\": 1164.2099609375, \"action\": \"HOLD\"}, {\"date\": \"2019-05-17T00:00:00\", \"actual\": 1162.300048828125, \"position\": 1178.97998046875, \"action\": \"HOLD\"}, {\"date\": \"2019-05-20T00:00:00\", \"actual\": 1138.8499755859375, \"position\": 1162.300048828125, \"action\": \"HOLD\"}, {\"date\": \"2019-05-21T00:00:00\", \"actual\": 1149.6300048828125, \"position\": 1138.8499755859375, \"action\": \"HOLD\"}, {\"date\": \"2019-05-22T00:00:00\", \"actual\": 1151.4200439453125, \"position\": 1149.6300048828125, \"action\": \"HOLD\"}, {\"date\": \"2019-05-23T00:00:00\", \"actual\": 1140.77001953125, \"position\": 1151.4200439453125, \"action\": \"HOLD\"}, {\"date\": \"2019-05-24T00:00:00\", \"actual\": 1133.469970703125, \"position\": 1140.77001953125, \"action\": \"HOLD\"}, {\"date\": \"2019-05-28T00:00:00\", \"actual\": 1134.1500244140625, \"position\": 1133.469970703125, \"action\": \"HOLD\"}, {\"date\": \"2019-05-29T00:00:00\", \"actual\": 1116.4599609375, \"position\": 1134.1500244140625, \"action\": \"HOLD\"}, {\"date\": \"2019-05-30T00:00:00\", \"actual\": 1117.949951171875, \"position\": 1116.4599609375, \"action\": \"HOLD\"}, {\"date\": \"2019-05-31T00:00:00\", \"actual\": 1103.6300048828123, \"position\": 1117.949951171875, \"action\": \"HOLD\"}, {\"date\": \"2019-06-03T00:00:00\", \"actual\": 1036.22998046875, \"position\": 1103.6300048828123, \"action\": \"HOLD\"}, {\"date\": \"2019-06-04T00:00:00\", \"actual\": 1053.050048828125, \"position\": 1036.22998046875, \"action\": \"HOLD\"}, {\"date\": \"2019-06-05T00:00:00\", \"actual\": 1042.219970703125, \"position\": 1053.050048828125, \"action\": \"HOLD\"}, {\"date\": \"2019-06-06T00:00:00\", \"actual\": 1044.3399658203123, \"position\": 1042.219970703125, \"action\": \"HOLD\"}, {\"date\": \"2019-06-07T00:00:00\", \"actual\": 1066.0400390625, \"position\": 1044.3399658203123, \"action\": \"HOLD\"}, {\"date\": \"2019-06-10T00:00:00\", \"actual\": 1080.3800048828123, \"position\": 1066.0400390625, \"action\": \"HOLD\"}, {\"date\": \"2019-06-11T00:00:00\", \"actual\": 1078.719970703125, \"position\": 1080.3800048828123, \"action\": \"HOLD\"}, {\"date\": \"2019-06-12T00:00:00\", \"actual\": 1077.030029296875, \"position\": 1078.719970703125, \"action\": \"HOLD\"}, {\"date\": \"2019-06-13T00:00:00\", \"actual\": 1088.77001953125, \"position\": 1077.030029296875, \"action\": \"HOLD\"}, {\"date\": \"2019-06-14T00:00:00\", \"actual\": 1085.3499755859377, \"position\": 1088.77001953125, \"action\": \"HOLD\"}, {\"date\": \"2019-06-17T00:00:00\", \"actual\": 1092.5, \"position\": 1085.3499755859377, \"action\": \"HOLD\"}, {\"date\": \"2019-06-18T00:00:00\", \"actual\": 1103.5999755859377, \"position\": 1092.5, \"action\": \"BUY\"}, {\"date\": \"2019-06-19T00:00:00\", \"actual\": 1102.3299560546877, \"position\": 1103.5999755859377, \"action\": \"HOLD\"}, {\"date\": \"2019-06-20T00:00:00\", \"actual\": 1111.4200439453123, \"position\": 1102.3299560546877, \"action\": \"HOLD\"}, {\"date\": \"2019-06-21T00:00:00\", \"actual\": 1121.8800048828123, \"position\": 1111.4200439453123, \"action\": \"SELL\"}, {\"date\": \"2019-06-24T00:00:00\", \"actual\": 1115.52001953125, \"position\": 1121.8800048828123, \"action\": \"HOLD\"}, {\"date\": \"2019-06-25T00:00:00\", \"actual\": 1086.3499755859377, \"position\": 1115.52001953125, \"action\": \"HOLD\"}, {\"date\": \"2019-06-26T00:00:00\", \"actual\": 1079.800048828125, \"position\": 1086.3499755859377, \"action\": \"HOLD\"}, {\"date\": \"2019-06-27T00:00:00\", \"actual\": 1076.010009765625, \"position\": 1079.800048828125, \"action\": \"HOLD\"}, {\"date\": \"2019-06-28T00:00:00\", \"actual\": 1080.9100341796877, \"position\": 1076.010009765625, \"action\": \"HOLD\"}, {\"date\": \"2019-07-01T00:00:00\", \"actual\": 1097.949951171875, \"position\": 1080.9100341796877, \"action\": \"HOLD\"}, {\"date\": \"2019-07-02T00:00:00\", \"actual\": 1111.25, \"position\": 1097.949951171875, \"action\": \"HOLD\"}, {\"date\": \"2019-07-03T00:00:00\", \"actual\": 1121.5799560546877, \"position\": 1111.25, \"action\": \"HOLD\"}, {\"date\": \"2019-07-05T00:00:00\", \"actual\": 1131.5899658203125, \"position\": 1121.5799560546877, \"action\": \"HOLD\"}, {\"date\": \"2019-07-08T00:00:00\", \"actual\": 1116.3499755859377, \"position\": 1131.5899658203125, \"action\": \"HOLD\"}, {\"date\": \"2019-07-09T00:00:00\", \"actual\": 1124.8299560546877, \"position\": 1116.3499755859377, \"action\": \"HOLD\"}, {\"date\": \"2019-07-10T00:00:00\", \"actual\": 1140.47998046875, \"position\": 1124.8299560546877, \"action\": \"HOLD\"}, {\"date\": \"2019-07-11T00:00:00\", \"actual\": 1144.2099609375, \"position\": 1140.47998046875, \"action\": \"HOLD\"}, {\"date\": \"2019-07-12T00:00:00\", \"actual\": 1144.9000244140625, \"position\": 1144.2099609375, \"action\": \"HOLD\"}, {\"date\": \"2019-07-15T00:00:00\", \"actual\": 1150.3399658203125, \"position\": 1144.9000244140625, \"action\": \"HOLD\"}, {\"date\": \"2019-07-16T00:00:00\", \"actual\": 1153.5799560546875, \"position\": 1150.3399658203125, \"action\": \"HOLD\"}, {\"date\": \"2019-07-17T00:00:00\", \"actual\": 1146.3499755859375, \"position\": 1153.5799560546875, \"action\": \"HOLD\"}, {\"date\": \"2019-07-18T00:00:00\", \"actual\": 1146.3299560546875, \"position\": 1146.3499755859375, \"action\": \"HOLD\"}, {\"date\": \"2019-07-19T00:00:00\", \"actual\": 1130.0999755859375, \"position\": 1146.3299560546875, \"action\": \"HOLD\"}, {\"date\": \"2019-07-22T00:00:00\", \"actual\": 1138.0699462890625, \"position\": 1130.0999755859375, \"action\": \"HOLD\"}, {\"date\": \"2019-07-23T00:00:00\", \"actual\": 1146.2099609375, \"position\": 1138.0699462890625, \"action\": \"HOLD\"}, {\"date\": \"2019-07-24T00:00:00\", \"actual\": 1137.81005859375, \"position\": 1146.2099609375, \"action\": \"HOLD\"}, {\"date\": \"2019-07-25T00:00:00\", \"actual\": 1132.1199951171875, \"position\": 1137.81005859375, \"action\": \"HOLD\"}, {\"date\": \"2019-07-26T00:00:00\", \"actual\": 1250.4100341796875, \"position\": 1132.1199951171875, \"action\": \"HOLD\"}, {\"date\": \"2019-07-29T00:00:00\", \"actual\": 1239.4100341796875, \"position\": 1250.4100341796875, \"action\": \"HOLD\"}, {\"date\": \"2019-07-30T00:00:00\", \"actual\": 1225.1400146484375, \"position\": 1239.4100341796875, \"action\": \"HOLD\"}, {\"date\": \"2019-07-31T00:00:00\", \"actual\": 1216.6800537109375, \"position\": 1225.1400146484375, \"action\": \"HOLD\"}, {\"date\": \"2019-08-01T00:00:00\", \"actual\": 1209.010009765625, \"position\": 1216.6800537109375, \"action\": \"HOLD\"}, {\"date\": \"2019-08-02T00:00:00\", \"actual\": 1193.989990234375, \"position\": 1209.010009765625, \"action\": \"HOLD\"}, {\"date\": \"2019-08-05T00:00:00\", \"actual\": 1152.3199462890625, \"position\": 1193.989990234375, \"action\": \"HOLD\"}, {\"date\": \"2019-08-06T00:00:00\", \"actual\": 1169.949951171875, \"position\": 1152.3199462890625, \"action\": \"HOLD\"}, {\"date\": \"2019-08-07T00:00:00\", \"actual\": 1173.989990234375, \"position\": 1169.949951171875, \"action\": \"HOLD\"}, {\"date\": \"2019-08-08T00:00:00\", \"actual\": 1204.800048828125, \"position\": 1173.989990234375, \"action\": \"HOLD\"}, {\"date\": \"2019-08-09T00:00:00\", \"actual\": 1188.010009765625, \"position\": 1204.800048828125, \"action\": \"HOLD\"}, {\"date\": \"2019-08-12T00:00:00\", \"actual\": 1174.7099609375, \"position\": 1188.010009765625, \"action\": \"HOLD\"}, {\"date\": \"2019-08-13T00:00:00\", \"actual\": 1197.27001953125, \"position\": 1174.7099609375, \"action\": \"HOLD\"}, {\"date\": \"2019-08-14T00:00:00\", \"actual\": 1164.2900390625, \"position\": 1197.27001953125, \"action\": \"HOLD\"}, {\"date\": \"2019-08-15T00:00:00\", \"actual\": 1167.260009765625, \"position\": 1164.2900390625, \"action\": \"HOLD\"}, {\"date\": \"2019-08-16T00:00:00\", \"actual\": 1177.5999755859375, \"position\": 1167.260009765625, \"action\": \"HOLD\"}, {\"date\": \"2019-08-19T00:00:00\", \"actual\": 1198.449951171875, \"position\": 1177.5999755859375, \"action\": \"BUY\"}, {\"date\": \"2019-08-20T00:00:00\", \"actual\": 1182.68994140625, \"position\": 1198.449951171875, \"action\": \"HOLD\"}, {\"date\": \"2019-08-21T00:00:00\", \"actual\": 1191.25, \"position\": 1182.68994140625, \"action\": \"HOLD\"}, {\"date\": \"2019-08-22T00:00:00\", \"actual\": 1189.530029296875, \"position\": 1191.25, \"action\": \"HOLD\"}, {\"date\": \"2019-08-23T00:00:00\", \"actual\": 1151.2900390625, \"position\": 1189.530029296875, \"action\": \"HOLD\"}, {\"date\": \"2019-08-26T00:00:00\", \"actual\": 1168.8900146484375, \"position\": 1151.2900390625, \"action\": \"HOLD\"}, {\"date\": \"2019-08-27T00:00:00\", \"actual\": 1167.8399658203125, \"position\": 1168.8900146484375, \"action\": \"HOLD\"}, {\"date\": \"2019-08-28T00:00:00\", \"actual\": 1171.02001953125, \"position\": 1167.8399658203125, \"action\": \"HOLD\"}, {\"date\": \"2019-08-29T00:00:00\", \"actual\": 1192.8499755859375, \"position\": 1171.02001953125, \"action\": \"HOLD\"}, {\"date\": \"2019-08-30T00:00:00\", \"actual\": 1188.0999755859375, \"position\": 1192.8499755859375, \"action\": \"SELL\"}, {\"date\": \"2019-09-03T00:00:00\", \"actual\": 1168.3900146484375, \"position\": 1188.0999755859375, \"action\": \"HOLD\"}, {\"date\": \"2019-09-04T00:00:00\", \"actual\": 1181.4100341796875, \"position\": 1168.3900146484375, \"action\": \"HOLD\"}, {\"date\": \"2019-09-05T00:00:00\", \"actual\": 1211.3800048828125, \"position\": 1181.4100341796875, \"action\": \"HOLD\"}, {\"date\": \"2019-09-06T00:00:00\", \"actual\": 1204.9300537109375, \"position\": 1211.3800048828125, \"action\": \"HOLD\"}, {\"date\": \"2019-09-09T00:00:00\", \"actual\": 1204.4100341796875, \"position\": 1204.9300537109375, \"action\": \"HOLD\"}, {\"date\": \"2019-09-10T00:00:00\", \"actual\": 1206.0, \"position\": 1204.4100341796875, \"action\": \"HOLD\"}, {\"date\": \"2019-09-11T00:00:00\", \"actual\": 1220.1700439453125, \"position\": 1206.0, \"action\": \"HOLD\"}, {\"date\": \"2019-09-12T00:00:00\", \"actual\": 1234.25, \"position\": 1220.1700439453125, \"action\": \"HOLD\"}, {\"date\": \"2019-09-13T00:00:00\", \"actual\": 1239.56005859375, \"position\": 1234.25, \"action\": \"HOLD\"}, {\"date\": \"2019-09-16T00:00:00\", \"actual\": 1231.300048828125, \"position\": 1239.56005859375, \"action\": \"HOLD\"}, {\"date\": \"2019-09-17T00:00:00\", \"actual\": 1229.1500244140625, \"position\": 1231.300048828125, \"action\": \"HOLD\"}, {\"date\": \"2019-09-18T00:00:00\", \"actual\": 1232.4100341796875, \"position\": 1229.1500244140625, \"action\": \"HOLD\"}, {\"date\": \"2019-09-19T00:00:00\", \"actual\": 1238.7099609375, \"position\": 1232.4100341796875, \"action\": \"HOLD\"}, {\"date\": \"2019-09-20T00:00:00\", \"actual\": 1229.9300537109375, \"position\": 1238.7099609375, \"action\": \"HOLD\"}, {\"date\": \"2019-09-23T00:00:00\", \"actual\": 1234.030029296875, \"position\": 1229.9300537109375, \"action\": \"HOLD\"}, {\"date\": \"2019-09-24T00:00:00\", \"actual\": 1218.760009765625, \"position\": 1234.030029296875, \"action\": \"HOLD\"}, {\"date\": \"2019-09-25T00:00:00\", \"actual\": 1246.52001953125, \"position\": 1218.760009765625, \"action\": \"HOLD\"}, {\"date\": \"2019-09-26T00:00:00\", \"actual\": 1241.3900146484375, \"position\": 1246.52001953125, \"action\": \"HOLD\"}, {\"date\": \"2019-09-27T00:00:00\", \"actual\": 1225.0899658203125, \"position\": 1241.3900146484375, \"action\": \"BUY\"}, {\"date\": \"2019-09-30T00:00:00\", \"actual\": 1219.0, \"position\": 1225.0899658203125, \"action\": \"SELL\"}, {\"date\": \"2019-10-01T00:00:00\", \"actual\": 1205.0999755859375, \"position\": 1219.0, \"action\": \"HOLD\"}, {\"date\": \"2019-10-02T00:00:00\", \"actual\": 1176.6300048828125, \"position\": 1205.0999755859375, \"action\": \"HOLD\"}, {\"date\": \"2019-10-03T00:00:00\", \"actual\": 1187.8299560546875, \"position\": 1176.6300048828125, \"action\": \"HOLD\"}, {\"date\": \"2019-10-04T00:00:00\", \"actual\": 1209.0, \"position\": 1187.8299560546875, \"action\": \"HOLD\"}, {\"date\": \"2019-10-07T00:00:00\", \"actual\": 1207.6800537109375, \"position\": 1209.0, \"action\": \"HOLD\"}, {\"date\": \"2019-10-08T00:00:00\", \"actual\": 1189.1300048828125, \"position\": 1207.6800537109375, \"action\": \"HOLD\"}, {\"date\": \"2019-10-09T00:00:00\", \"actual\": 1202.31005859375, \"position\": 1189.1300048828125, \"action\": \"HOLD\"}, {\"date\": \"2019-10-10T00:00:00\", \"actual\": 1208.6700439453125, \"position\": 1202.31005859375, \"action\": \"HOLD\"}, {\"date\": \"2019-10-11T00:00:00\", \"actual\": 1215.449951171875, \"position\": 1208.6700439453125, \"action\": \"HOLD\"}, {\"date\": \"2019-10-14T00:00:00\", \"actual\": 1217.1400146484375, \"position\": 1215.449951171875, \"action\": \"HOLD\"}, {\"date\": \"2019-10-15T00:00:00\", \"actual\": 1243.010009765625, \"position\": 1217.1400146484375, \"action\": \"HOLD\"}, {\"date\": \"2019-10-16T00:00:00\", \"actual\": 1243.6400146484375, \"position\": 1243.010009765625, \"action\": \"HOLD\"}, {\"date\": \"2019-10-17T00:00:00\", \"actual\": 1253.0699462890625, \"position\": 1243.6400146484375, \"action\": \"HOLD\"}, {\"date\": \"2019-10-18T00:00:00\", \"actual\": 1245.489990234375, \"position\": 1253.0699462890625, \"action\": \"HOLD\"}, {\"date\": \"2019-10-21T00:00:00\", \"actual\": 1246.1500244140625, \"position\": 1245.489990234375, \"action\": \"HOLD\"}, {\"date\": \"2019-10-22T00:00:00\", \"actual\": 1242.800048828125, \"position\": 1246.1500244140625, \"action\": \"HOLD\"}, {\"date\": \"2019-10-23T00:00:00\", \"actual\": 1259.1300048828125, \"position\": 1242.800048828125, \"action\": \"HOLD\"}, {\"date\": \"2019-10-24T00:00:00\", \"actual\": 1260.989990234375, \"position\": 1259.1300048828125, \"action\": \"BUY\"}, {\"date\": \"2019-10-25T00:00:00\", \"actual\": 1265.1300048828125, \"position\": 1260.989990234375, \"action\": \"SELL\"}, {\"date\": \"2019-10-28T00:00:00\", \"actual\": 1290.0, \"position\": 1265.1300048828125, \"action\": \"HOLD\"}, {\"date\": \"2019-10-29T00:00:00\", \"actual\": 1262.6199951171875, \"position\": 1290.0, \"action\": \"HOLD\"}, {\"date\": \"2019-10-30T00:00:00\", \"actual\": 1261.2900390625, \"position\": 1262.6199951171875, \"action\": \"HOLD\"}, {\"date\": \"2019-10-31T00:00:00\", \"actual\": 1260.1099853515625, \"position\": 1261.2900390625, \"action\": \"HOLD\"}, {\"date\": \"2019-11-01T00:00:00\", \"actual\": 1273.739990234375, \"position\": 1260.1099853515625, \"action\": \"HOLD\"}, {\"date\": \"2019-11-04T00:00:00\", \"actual\": 1291.3699951171875, \"position\": 1273.739990234375, \"action\": \"HOLD\"}, {\"date\": \"2019-11-05T00:00:00\", \"actual\": 1292.030029296875, \"position\": 1291.3699951171875, \"action\": \"HOLD\"}, {\"date\": \"2019-11-06T00:00:00\", \"actual\": 1291.800048828125, \"position\": 1292.030029296875, \"action\": \"HOLD\"}, {\"date\": \"2019-11-07T00:00:00\", \"actual\": 1308.8599853515625, \"position\": 1291.800048828125, \"action\": \"HOLD\"}, {\"date\": \"2019-11-08T00:00:00\", \"actual\": 1311.3699951171875, \"position\": 1308.8599853515625, \"action\": \"HOLD\"}, {\"date\": \"2019-11-11T00:00:00\", \"actual\": 1299.18994140625, \"position\": 1311.3699951171875, \"action\": \"HOLD\"}, {\"date\": \"2019-11-12T00:00:00\", \"actual\": 1298.800048828125, \"position\": 1299.18994140625, \"action\": \"HOLD\"}, {\"date\": \"2019-11-13T00:00:00\", \"actual\": 1298.0, \"position\": 1298.800048828125, \"action\": \"HOLD\"}, {\"date\": \"2019-11-14T00:00:00\", \"actual\": 1311.4599609375, \"position\": 1298.0, \"action\": \"HOLD\"}, {\"date\": \"2019-11-15T00:00:00\", \"actual\": 1334.8699951171875, \"position\": 1311.4599609375, \"action\": \"HOLD\"}, {\"date\": \"2019-11-18T00:00:00\", \"actual\": 1320.699951171875, \"position\": 1334.8699951171875, \"action\": \"HOLD\"}, {\"date\": \"2019-11-19T00:00:00\", \"actual\": 1315.4599609375, \"position\": 1320.699951171875, \"action\": \"HOLD\"}, {\"date\": \"2019-11-20T00:00:00\", \"actual\": 1303.050048828125, \"position\": 1315.4599609375, \"action\": \"HOLD\"}, {\"date\": \"2019-11-21T00:00:00\", \"actual\": 1301.3499755859375, \"position\": 1303.050048828125, \"action\": \"HOLD\"}, {\"date\": \"2019-11-22T00:00:00\", \"actual\": 1295.3399658203125, \"position\": 1301.3499755859375, \"action\": \"HOLD\"}, {\"date\": \"2019-11-25T00:00:00\", \"actual\": 1306.68994140625, \"position\": 1295.3399658203125, \"action\": \"HOLD\"}, {\"date\": \"2019-11-26T00:00:00\", \"actual\": 1313.550048828125, \"position\": 1306.68994140625, \"action\": \"HOLD\"}, {\"date\": \"2019-11-27T00:00:00\", \"actual\": 1312.989990234375, \"position\": 1313.550048828125, \"action\": \"HOLD\"}, {\"date\": \"2019-11-29T00:00:00\", \"actual\": 1304.9599609375, \"position\": 1312.989990234375, \"action\": \"HOLD\"}, {\"date\": \"2019-12-02T00:00:00\", \"actual\": 1289.9200439453125, \"position\": 1304.9599609375, \"action\": \"BUY\"}, {\"date\": \"2019-12-03T00:00:00\", \"actual\": 1295.280029296875, \"position\": 1289.9200439453125, \"action\": \"HOLD\"}, {\"date\": \"2019-12-04T00:00:00\", \"actual\": 1320.5400390625, \"position\": 1295.280029296875, \"action\": \"HOLD\"}, {\"date\": \"2019-12-05T00:00:00\", \"actual\": 1328.1300048828125, \"position\": 1320.5400390625, \"action\": \"SELL\"}, {\"date\": \"2019-12-06T00:00:00\", \"actual\": 1340.6199951171875, \"position\": 1328.1300048828125, \"action\": \"HOLD\"}, {\"date\": \"2019-12-09T00:00:00\", \"actual\": 1343.56005859375, \"position\": 1340.6199951171875, \"action\": \"HOLD\"}, {\"date\": \"2019-12-10T00:00:00\", \"actual\": 1344.6600341796875, \"position\": 1343.56005859375, \"action\": \"HOLD\"}, {\"date\": \"2019-12-11T00:00:00\", \"actual\": 1345.02001953125, \"position\": 1344.6600341796875, \"action\": \"HOLD\"}, {\"date\": \"2019-12-12T00:00:00\", \"actual\": 1350.27001953125, \"position\": 1345.02001953125, \"action\": \"HOLD\"}, {\"date\": \"2019-12-13T00:00:00\", \"actual\": 1347.8299560546875, \"position\": 1350.27001953125, \"action\": \"HOLD\"}, {\"date\": \"2019-12-16T00:00:00\", \"actual\": 1361.1700439453125, \"position\": 1347.8299560546875, \"action\": \"HOLD\"}, {\"date\": \"2019-12-17T00:00:00\", \"actual\": 1355.1199951171875, \"position\": 1361.1700439453125, \"action\": \"HOLD\"}, {\"date\": \"2019-12-18T00:00:00\", \"actual\": 1352.6199951171875, \"position\": 1355.1199951171875, \"action\": \"HOLD\"}, {\"date\": \"2019-12-19T00:00:00\", \"actual\": 1356.0400390625, \"position\": 1352.6199951171875, \"action\": \"HOLD\"}, {\"date\": \"2019-12-20T00:00:00\", \"actual\": 1349.5899658203125, \"position\": 1356.0400390625, \"action\": \"HOLD\"}, {\"date\": \"2019-12-23T00:00:00\", \"actual\": 1348.8399658203125, \"position\": 1349.5899658203125, \"action\": \"HOLD\"}, {\"date\": \"2019-12-24T00:00:00\", \"actual\": 1343.56005859375, \"position\": 1348.8399658203125, \"action\": \"HOLD\"}, {\"date\": \"2019-12-26T00:00:00\", \"actual\": 1360.4000244140625, \"position\": 1343.56005859375, \"action\": \"HOLD\"}, {\"date\": \"2019-12-27T00:00:00\", \"actual\": 1351.8900146484375, \"position\": 1360.4000244140625, \"action\": \"HOLD\"}, {\"date\": \"2019-12-30T00:00:00\", \"actual\": 1336.1400146484375, \"position\": 1351.8900146484375, \"action\": \"HOLD\"}, {\"date\": \"2019-12-31T00:00:00\", \"actual\": 1337.02001953125, \"position\": 1336.1400146484375, \"action\": \"HOLD\"}, {\"date\": \"2020-01-02T00:00:00\", \"actual\": 1367.3699951171875, \"position\": 1337.02001953125, \"action\": \"HOLD\"}, {\"date\": \"2020-01-03T00:00:00\", \"actual\": 1360.6600341796875, \"position\": 1367.3699951171875, \"action\": \"HOLD\"}, {\"date\": \"2020-01-06T00:00:00\", \"actual\": 1394.2099609375, \"position\": 1360.6600341796875, \"action\": \"HOLD\"}, {\"date\": \"2020-01-07T00:00:00\", \"actual\": 1393.3399658203125, \"position\": 1394.2099609375, \"action\": \"HOLD\"}, {\"date\": \"2020-01-08T00:00:00\", \"actual\": 1404.3199462890625, \"position\": 1393.3399658203125, \"action\": \"HOLD\"}, {\"date\": \"2020-01-09T00:00:00\", \"actual\": 1419.8299560546875, \"position\": 1404.3199462890625, \"action\": \"HOLD\"}, {\"date\": \"2020-01-10T00:00:00\", \"actual\": 1429.72998046875, \"position\": 1419.8299560546875, \"action\": \"HOLD\"}, {\"date\": \"2020-01-13T00:00:00\", \"actual\": 1439.22998046875, \"position\": 1429.72998046875, \"action\": \"HOLD\"}, {\"date\": \"2020-01-14T00:00:00\", \"actual\": 1430.8800048828125, \"position\": 1439.22998046875, \"action\": \"HOLD\"}, {\"date\": \"2020-01-15T00:00:00\", \"actual\": 1439.199951171875, \"position\": 1430.8800048828125, \"action\": \"HOLD\"}, {\"date\": \"2020-01-16T00:00:00\", \"actual\": 1451.699951171875, \"position\": 1439.199951171875, \"action\": \"HOLD\"}, {\"date\": \"2020-01-17T00:00:00\", \"actual\": 1480.3900146484375, \"position\": 1451.699951171875, \"action\": \"HOLD\"}, {\"date\": \"2020-01-21T00:00:00\", \"actual\": 1484.4000244140625, \"position\": 1480.3900146484375, \"action\": \"HOLD\"}, {\"date\": \"2020-01-22T00:00:00\", \"actual\": 1485.949951171875, \"position\": 1484.4000244140625, \"action\": \"HOLD\"}, {\"date\": \"2020-01-23T00:00:00\", \"actual\": 1486.6500244140625, \"position\": 1485.949951171875, \"action\": \"HOLD\"}, {\"date\": \"2020-01-24T00:00:00\", \"actual\": 1466.7099609375, \"position\": 1486.6500244140625, \"action\": \"HOLD\"}, {\"date\": \"2020-01-27T00:00:00\", \"actual\": 1433.9000244140625, \"position\": 1466.7099609375, \"action\": \"HOLD\"}, {\"date\": \"2020-01-28T00:00:00\", \"actual\": 1452.56005859375, \"position\": 1433.9000244140625, \"action\": \"HOLD\"}, {\"date\": \"2020-01-29T00:00:00\", \"actual\": 1458.6300048828125, \"position\": 1452.56005859375, \"action\": \"HOLD\"}, {\"date\": \"2020-01-30T00:00:00\", \"actual\": 1455.8399658203125, \"position\": 1458.6300048828125, \"action\": \"HOLD\"}, {\"date\": \"2020-01-31T00:00:00\", \"actual\": 1434.22998046875, \"position\": 1455.8399658203125, \"action\": \"HOLD\"}, {\"date\": \"2020-02-03T00:00:00\", \"actual\": 1485.93994140625, \"position\": 1434.22998046875, \"action\": \"HOLD\"}, {\"date\": \"2020-02-04T00:00:00\", \"actual\": 1447.0699462890625, \"position\": 1485.93994140625, \"action\": \"HOLD\"}, {\"date\": \"2020-02-05T00:00:00\", \"actual\": 1448.22998046875, \"position\": 1447.0699462890625, \"action\": \"HOLD\"}, {\"date\": \"2020-02-06T00:00:00\", \"actual\": 1476.22998046875, \"position\": 1448.22998046875, \"action\": \"HOLD\"}, {\"date\": \"2020-02-07T00:00:00\", \"actual\": 1479.22998046875, \"position\": 1476.22998046875, \"action\": \"HOLD\"}, {\"date\": \"2020-02-10T00:00:00\", \"actual\": 1508.6800537109375, \"position\": 1479.22998046875, \"action\": \"BUY\"}, {\"date\": \"2020-02-11T00:00:00\", \"actual\": 1508.7900390625, \"position\": 1508.6800537109375, \"action\": \"HOLD\"}, {\"date\": \"2020-02-12T00:00:00\", \"actual\": 1518.27001953125, \"position\": 1508.7900390625, \"action\": \"SELL\"}, {\"date\": \"2020-02-13T00:00:00\", \"actual\": 1514.6600341796875, \"position\": 1518.27001953125, \"action\": \"HOLD\"}, {\"date\": \"2020-02-14T00:00:00\", \"actual\": 1520.739990234375, \"position\": 1514.6600341796875, \"action\": \"HOLD\"}, {\"date\": \"2020-02-18T00:00:00\", \"actual\": 1519.6700439453125, \"position\": 1520.739990234375, \"action\": \"HOLD\"}, {\"date\": \"2020-02-19T00:00:00\", \"actual\": 1526.68994140625, \"position\": 1519.6700439453125, \"action\": \"HOLD\"}, {\"date\": \"2020-02-20T00:00:00\", \"actual\": 1518.1500244140625, \"position\": 1526.68994140625, \"action\": \"HOLD\"}, {\"date\": \"2020-02-21T00:00:00\", \"actual\": 1485.1099853515625, \"position\": 1518.1500244140625, \"action\": \"HOLD\"}, {\"date\": \"2020-02-24T00:00:00\", \"actual\": 1421.5899658203125, \"position\": 1485.1099853515625, \"action\": \"HOLD\"}, {\"date\": \"2020-02-25T00:00:00\", \"actual\": 1388.449951171875, \"position\": 1421.5899658203125, \"action\": \"BUY\"}, {\"date\": \"2020-02-26T00:00:00\", \"actual\": 1393.1800537109375, \"position\": 1388.449951171875, \"action\": \"HOLD\"}, {\"date\": \"2020-02-27T00:00:00\", \"actual\": 1318.0899658203125, \"position\": 1393.1800537109375, \"action\": \"HOLD\"}, {\"date\": \"2020-02-28T00:00:00\", \"actual\": 1339.3299560546875, \"position\": 1318.0899658203125, \"action\": \"HOLD\"}, {\"date\": \"2020-03-02T00:00:00\", \"actual\": 1389.1099853515625, \"position\": 1339.3299560546875, \"action\": \"SELL\"}, {\"date\": \"2020-03-03T00:00:00\", \"actual\": 1341.3900146484375, \"position\": 1389.1099853515625, \"action\": \"HOLD\"}, {\"date\": \"2020-03-04T00:00:00\", \"actual\": 1386.52001953125, \"position\": 1341.3900146484375, \"action\": \"HOLD\"}, {\"date\": \"2020-03-05T00:00:00\", \"actual\": 1319.0400390625, \"position\": 1386.52001953125, \"action\": \"HOLD\"}, {\"date\": \"2020-03-06T00:00:00\", \"actual\": 1298.4100341796875, \"position\": 1319.0400390625, \"action\": \"BUY\"}, {\"date\": \"2020-03-09T00:00:00\", \"actual\": 1215.56005859375, \"position\": 1298.4100341796875, \"action\": \"HOLD\"}, {\"date\": \"2020-03-10T00:00:00\", \"actual\": 1280.3900146484375, \"position\": 1215.56005859375, \"action\": \"BUY\"}, {\"date\": \"2020-03-11T00:00:00\", \"actual\": 1215.4100341796875, \"position\": 1280.3900146484375, \"action\": \"BUY\"}, {\"date\": \"2020-03-12T00:00:00\", \"actual\": 1114.9100341796877, \"position\": 1215.4100341796875, \"action\": \"HOLD\"}, {\"date\": \"2020-03-13T00:00:00\", \"actual\": 1219.72998046875, \"position\": 1114.9100341796877, \"action\": \"HOLD\"}, {\"date\": \"2020-03-16T00:00:00\", \"actual\": 1084.3299560546877, \"position\": 1219.72998046875, \"action\": \"HOLD\"}, {\"date\": \"2020-03-17T00:00:00\", \"actual\": 1119.800048828125, \"position\": 1084.3299560546877, \"action\": \"HOLD\"}, {\"date\": \"2020-03-18T00:00:00\", \"actual\": 1096.800048828125, \"position\": 1119.800048828125, \"action\": \"HOLD\"}, {\"date\": \"2020-03-19T00:00:00\", \"actual\": 1115.2900390625, \"position\": 1096.800048828125, \"action\": \"HOLD\"}, {\"date\": \"2020-03-20T00:00:00\", \"actual\": 1072.3199462890623, \"position\": 1115.2900390625, \"action\": \"HOLD\"}, {\"date\": \"2020-03-23T00:00:00\", \"actual\": 1056.6199951171877, \"position\": 1072.3199462890623, \"action\": \"BUY\"}, {\"date\": \"2020-03-24T00:00:00\", \"actual\": 1134.4599609375, \"position\": 1056.6199951171877, \"action\": \"HOLD\"}, {\"date\": \"2020-03-25T00:00:00\", \"actual\": 1102.489990234375, \"position\": 1134.4599609375, \"action\": \"HOLD\"}, {\"date\": \"2020-03-26T00:00:00\", \"actual\": 1161.75, \"position\": 1102.489990234375, \"action\": \"HOLD\"}, {\"date\": \"2020-03-27T00:00:00\", \"actual\": 1110.7099609375, \"position\": 1161.75, \"action\": \"HOLD\"}, {\"date\": \"2020-03-30T00:00:00\", \"actual\": 1146.8199462890625, \"position\": 1110.7099609375, \"action\": \"SELL\"}, {\"date\": \"2020-03-31T00:00:00\", \"actual\": 1162.81005859375, \"position\": 1146.8199462890625, \"action\": \"HOLD\"}, {\"date\": \"2020-04-01T00:00:00\", \"actual\": 1105.6199951171877, \"position\": 1162.81005859375, \"action\": \"HOLD\"}, {\"date\": \"2020-04-02T00:00:00\", \"actual\": 1120.8399658203123, \"position\": 1105.6199951171877, \"action\": \"HOLD\"}, {\"date\": \"2020-04-03T00:00:00\", \"actual\": 1097.8800048828123, \"position\": 1120.8399658203123, \"action\": \"HOLD\"}, {\"date\": \"2020-04-06T00:00:00\", \"actual\": 1186.9200439453125, \"position\": 1097.8800048828123, \"action\": \"HOLD\"}, {\"date\": \"2020-04-07T00:00:00\", \"actual\": 1186.510009765625, \"position\": 1186.9200439453125, \"action\": \"HOLD\"}, {\"date\": \"2020-04-08T00:00:00\", \"actual\": 1210.280029296875, \"position\": 1186.510009765625, \"action\": \"HOLD\"}, {\"date\": \"2020-04-09T00:00:00\", \"actual\": 1211.449951171875, \"position\": 1210.280029296875, \"action\": \"HOLD\"}, {\"date\": \"2020-04-13T00:00:00\", \"actual\": 1217.56005859375, \"position\": 1211.449951171875, \"action\": \"HOLD\"}, {\"date\": \"2020-04-14T00:00:00\", \"actual\": 1269.22998046875, \"position\": 1217.56005859375, \"action\": \"HOLD\"}, {\"date\": \"2020-04-15T00:00:00\", \"actual\": 1262.469970703125, \"position\": 1269.22998046875, \"action\": \"HOLD\"}, {\"date\": \"2020-04-16T00:00:00\", \"actual\": 1263.469970703125, \"position\": 1262.469970703125, \"action\": \"HOLD\"}, {\"date\": \"2020-04-17T00:00:00\", \"actual\": 1283.25, \"position\": 1263.469970703125, \"action\": \"HOLD\"}, {\"date\": \"2020-04-20T00:00:00\", \"actual\": 1266.6099853515625, \"position\": 1283.25, \"action\": \"HOLD\"}, {\"date\": \"2020-04-21T00:00:00\", \"actual\": 1216.3399658203125, \"position\": 1266.6099853515625, \"action\": \"HOLD\"}, {\"date\": \"2020-04-22T00:00:00\", \"actual\": 1263.2099609375, \"position\": 1216.3399658203125, \"action\": \"HOLD\"}, {\"date\": \"2020-04-23T00:00:00\", \"actual\": 1276.31005859375, \"position\": 1263.2099609375, \"action\": \"HOLD\"}, {\"date\": \"2020-04-24T00:00:00\", \"actual\": 1279.31005859375, \"position\": 1276.31005859375, \"action\": \"HOLD\"}, {\"date\": \"2020-04-27T00:00:00\", \"actual\": 1275.8800048828125, \"position\": 1279.31005859375, \"action\": \"HOLD\"}, {\"date\": \"2020-04-28T00:00:00\", \"actual\": 1233.6700439453125, \"position\": 1275.8800048828125, \"action\": \"HOLD\"}, {\"date\": \"2020-04-29T00:00:00\", \"actual\": 1341.47998046875, \"position\": 1233.6700439453125, \"action\": \"HOLD\"}, {\"date\": \"2020-04-30T00:00:00\", \"actual\": 1348.6600341796875, \"position\": 1341.47998046875, \"action\": \"HOLD\"}, {\"date\": \"2020-05-01T00:00:00\", \"actual\": 1320.6099853515625, \"position\": 1348.6600341796875, \"action\": \"HOLD\"}, {\"date\": \"2020-05-04T00:00:00\", \"actual\": 1326.800048828125, \"position\": 1320.6099853515625, \"action\": \"SELL\"}, {\"date\": \"2020-05-05T00:00:00\", \"actual\": 1351.1099853515625, \"position\": 1326.800048828125, \"action\": \"HOLD\"}, {\"date\": \"2020-05-06T00:00:00\", \"actual\": 1347.300048828125, \"position\": 1351.1099853515625, \"action\": \"SELL\"}, {\"date\": \"2020-05-07T00:00:00\", \"actual\": 1372.56005859375, \"position\": 1347.300048828125, \"action\": \"HOLD\"}, {\"date\": \"2020-05-08T00:00:00\", \"actual\": 1388.3699951171875, \"position\": 1372.56005859375, \"action\": \"HOLD\"}, {\"date\": \"2020-05-11T00:00:00\", \"actual\": 1403.260009765625, \"position\": 1388.3699951171875, \"action\": \"SELL\"}, {\"date\": \"2020-05-12T00:00:00\", \"actual\": 1375.739990234375, \"position\": 1403.260009765625, \"action\": \"HOLD\"}, {\"date\": \"2020-05-13T00:00:00\", \"actual\": 1349.3299560546875, \"position\": 1375.739990234375, \"action\": \"HOLD\"}, {\"date\": \"2020-05-14T00:00:00\", \"actual\": 1356.1300048828125, \"position\": 1349.3299560546875, \"action\": \"HOLD\"}, {\"date\": \"2020-05-15T00:00:00\", \"actual\": 1373.18994140625, \"position\": 1356.1300048828125, \"action\": \"HOLD\"}, {\"date\": \"2020-05-18T00:00:00\", \"actual\": 1383.93994140625, \"position\": 1373.18994140625, \"action\": \"HOLD\"}, {\"date\": \"2020-05-19T00:00:00\", \"actual\": 1373.4849853515625, \"position\": 1383.93994140625, \"action\": \"HOLD\"}, {\"date\": \"2020-05-20T00:00:00\", \"actual\": 1406.719970703125, \"position\": 1373.4849853515625, \"action\": \"HOLD\"}, {\"date\": \"2020-05-21T00:00:00\", \"actual\": 1402.800048828125, \"position\": 1406.719970703125, \"action\": \"HOLD\"}, {\"date\": \"2020-05-22T00:00:00\", \"actual\": 1410.4200439453125, \"position\": 1402.800048828125, \"action\": \"HOLD\"}, {\"date\": \"2020-05-26T00:00:00\", \"actual\": 1417.02001953125, \"position\": 1410.4200439453125, \"action\": \"HOLD\"}, {\"date\": \"2020-05-27T00:00:00\", \"actual\": 1417.8399658203125, \"position\": 1417.02001953125, \"action\": \"HOLD\"}, {\"date\": \"2020-05-28T00:00:00\", \"actual\": 1416.72998046875, \"position\": 1417.8399658203125, \"action\": \"HOLD\"}, {\"date\": \"2020-05-29T00:00:00\", \"actual\": 1428.9200439453125, \"position\": 1416.72998046875, \"action\": \"HOLD\"}, {\"date\": \"2020-06-01T00:00:00\", \"actual\": 1431.8199462890625, \"position\": 1428.9200439453125, \"action\": \"HOLD\"}, {\"date\": \"2020-06-02T00:00:00\", \"actual\": 1439.219970703125, \"position\": 1431.8199462890625, \"action\": \"HOLD\"}, {\"date\": \"2020-06-03T00:00:00\", \"actual\": 1436.3800048828125, \"position\": 1439.219970703125, \"action\": \"HOLD\"}, {\"date\": \"2020-06-04T00:00:00\", \"actual\": 1412.1800537109375, \"position\": 1436.3800048828125, \"action\": \"HOLD\"}, {\"date\": \"2020-06-05T00:00:00\", \"actual\": 1438.3900146484375, \"position\": 1412.1800537109375, \"action\": \"HOLD\"}, {\"date\": \"2020-06-08T00:00:00\", \"actual\": 1446.6099853515625, \"position\": 1438.3900146484375, \"action\": \"HOLD\"}, {\"date\": \"2020-06-09T00:00:00\", \"actual\": 1456.1600341796875, \"position\": 1446.6099853515625, \"action\": \"HOLD\"}, {\"date\": \"2020-06-10T00:00:00\", \"actual\": 1465.8499755859375, \"position\": 1456.1600341796875, \"action\": \"HOLD\"}, {\"date\": \"2020-06-11T00:00:00\", \"actual\": 1403.8399658203125, \"position\": 1465.8499755859375, \"action\": \"HOLD\"}, {\"date\": \"2020-06-12T00:00:00\", \"actual\": 1413.1800537109375, \"position\": 1403.8399658203125, \"action\": \"HOLD\"}, {\"date\": \"2020-06-15T00:00:00\", \"actual\": 1419.8499755859375, \"position\": 1413.1800537109375, \"action\": \"HOLD\"}, {\"date\": \"2020-06-16T00:00:00\", \"actual\": 1442.719970703125, \"position\": 1419.8499755859375, \"action\": \"HOLD\"}, {\"date\": \"2020-06-17T00:00:00\", \"actual\": 1451.1199951171875, \"position\": 1442.719970703125, \"action\": \"HOLD\"}, {\"date\": \"2020-06-18T00:00:00\", \"actual\": 1435.9599609375, \"position\": 1451.1199951171875, \"action\": \"HOLD\"}, {\"date\": \"2020-06-19T00:00:00\", \"actual\": 1431.719970703125, \"position\": 1435.9599609375, \"action\": \"HOLD\"}, {\"date\": \"2020-06-22T00:00:00\", \"actual\": 1451.8599853515625, \"position\": 1431.719970703125, \"action\": \"HOLD\"}, {\"date\": \"2020-06-23T00:00:00\", \"actual\": 1464.4100341796875, \"position\": 1451.8599853515625, \"action\": \"HOLD\"}, {\"date\": \"2020-06-24T00:00:00\", \"actual\": 1431.969970703125, \"position\": 1464.4100341796875, \"action\": \"HOLD\"}, {\"date\": \"2020-06-25T00:00:00\", \"actual\": 1441.3299560546875, \"position\": 1431.969970703125, \"action\": \"HOLD\"}, {\"date\": \"2020-06-26T00:00:00\", \"actual\": 1359.9000244140625, \"position\": 1441.3299560546875, \"action\": \"HOLD\"}, {\"date\": \"2020-06-29T00:00:00\", \"actual\": 1394.969970703125, \"position\": 1359.9000244140625, \"action\": \"HOLD\"}, {\"date\": \"2020-06-30T00:00:00\", \"actual\": 1413.6099853515625, \"position\": 1394.969970703125, \"action\": \"HOLD\"}, {\"date\": \"2020-07-01T00:00:00\", \"actual\": 1438.0400390625, \"position\": 1413.6099853515625, \"action\": \"HOLD\"}, {\"date\": \"2020-07-02T00:00:00\", \"actual\": 1464.699951171875, \"position\": 1438.0400390625, \"action\": \"BUY\"}, {\"date\": \"2020-07-06T00:00:00\", \"actual\": 1495.699951171875, \"position\": 1464.699951171875, \"action\": \"SELL\"}, {\"date\": \"2020-07-07T00:00:00\", \"actual\": 1485.1800537109375, \"position\": 1495.699951171875, \"action\": \"HOLD\"}, {\"date\": \"2020-07-08T00:00:00\", \"actual\": 1496.0, \"position\": 1485.1800537109375, \"action\": \"HOLD\"}, {\"date\": \"2020-07-09T00:00:00\", \"actual\": 1510.989990234375, \"position\": 1496.0, \"action\": \"HOLD\"}, {\"date\": \"2020-07-10T00:00:00\", \"actual\": 1541.739990234375, \"position\": 1510.989990234375, \"action\": \"HOLD\"}, {\"date\": \"2020-07-13T00:00:00\", \"actual\": 1511.3399658203125, \"position\": 1541.739990234375, \"action\": \"HOLD\"}, {\"date\": \"2020-07-14T00:00:00\", \"actual\": 1520.5799560546875, \"position\": 1511.3399658203125, \"action\": \"HOLD\"}, {\"date\": \"2020-07-15T00:00:00\", \"actual\": 1513.6400146484375, \"position\": 1520.5799560546875, \"action\": \"HOLD\"}, {\"date\": \"2020-07-16T00:00:00\", \"actual\": 1518.0, \"position\": 1513.6400146484375, \"action\": \"HOLD\"}, {\"date\": \"2020-07-17T00:00:00\", \"actual\": 1515.550048828125, \"position\": 1518.0, \"action\": \"HOLD\"}, {\"date\": \"2020-07-20T00:00:00\", \"actual\": 1565.719970703125, \"position\": 1515.550048828125, \"action\": \"HOLD\"}, {\"date\": \"2020-07-21T00:00:00\", \"actual\": 1558.4200439453125, \"position\": 1565.719970703125, \"action\": \"HOLD\"}, {\"date\": \"2020-07-22T00:00:00\", \"actual\": 1568.489990234375, \"position\": 1558.4200439453125, \"action\": \"HOLD\"}, {\"date\": \"2020-07-23T00:00:00\", \"actual\": 1515.6800537109375, \"position\": 1568.489990234375, \"action\": \"HOLD\"}, {\"date\": \"2020-07-24T00:00:00\", \"actual\": 1511.8699951171875, \"position\": 1515.6800537109375, \"action\": \"HOLD\"}, {\"date\": \"2020-07-27T00:00:00\", \"actual\": 1530.199951171875, \"position\": 1511.8699951171875, \"action\": \"HOLD\"}, {\"date\": \"2020-07-28T00:00:00\", \"actual\": 1500.3399658203125, \"position\": 1530.199951171875, \"action\": \"HOLD\"}, {\"date\": \"2020-07-29T00:00:00\", \"actual\": 1522.02001953125, \"position\": 1500.3399658203125, \"action\": \"HOLD\"}, {\"date\": \"2020-07-30T00:00:00\", \"actual\": 1531.449951171875, \"position\": 1522.02001953125, \"action\": \"HOLD\"}, {\"date\": \"2020-07-31T00:00:00\", \"actual\": 1482.9599609375, \"position\": 1531.449951171875, \"action\": \"HOLD\"}, {\"date\": \"2020-08-03T00:00:00\", \"actual\": 1474.449951171875, \"position\": 1482.9599609375, \"action\": \"HOLD\"}, {\"date\": \"2020-08-04T00:00:00\", \"actual\": 1464.969970703125, \"position\": 1474.449951171875, \"action\": \"HOLD\"}, {\"date\": \"2020-08-05T00:00:00\", \"actual\": 1473.6099853515625, \"position\": 1464.969970703125, \"action\": \"HOLD\"}, {\"date\": \"2020-08-06T00:00:00\", \"actual\": 1500.0999755859375, \"position\": 1473.6099853515625, \"action\": \"HOLD\"}, {\"date\": \"2020-08-07T00:00:00\", \"actual\": 1494.489990234375, \"position\": 1500.0999755859375, \"action\": \"HOLD\"}, {\"date\": \"2020-08-10T00:00:00\", \"actual\": 1496.0999755859375, \"position\": 1494.489990234375, \"action\": \"HOLD\"}, {\"date\": \"2020-08-11T00:00:00\", \"actual\": 1480.3199462890625, \"position\": 1496.0999755859375, \"action\": \"HOLD\"}, {\"date\": \"2020-08-12T00:00:00\", \"actual\": 1506.6199951171875, \"position\": 1480.3199462890625, \"action\": \"HOLD\"}, {\"date\": \"2020-08-13T00:00:00\", \"actual\": 1518.449951171875, \"position\": 1506.6199951171875, \"action\": \"HOLD\"}, {\"date\": \"2020-08-14T00:00:00\", \"actual\": 1507.72998046875, \"position\": 1518.449951171875, \"action\": \"HOLD\"}, {\"date\": \"2020-08-17T00:00:00\", \"actual\": 1517.97998046875, \"position\": 1507.72998046875, \"action\": \"HOLD\"}, {\"date\": \"2020-08-18T00:00:00\", \"actual\": 1558.5999755859375, \"position\": 1517.97998046875, \"action\": \"HOLD\"}, {\"date\": \"2020-08-19T00:00:00\", \"actual\": 1547.530029296875, \"position\": 1558.5999755859375, \"action\": \"HOLD\"}, {\"date\": \"2020-08-20T00:00:00\", \"actual\": 1581.75, \"position\": 1547.530029296875, \"action\": \"HOLD\"}, {\"date\": \"2020-08-21T00:00:00\", \"actual\": 1580.4200439453125, \"position\": 1581.75, \"action\": \"HOLD\"}, {\"date\": \"2020-08-24T00:00:00\", \"actual\": 1588.199951171875, \"position\": 1580.4200439453125, \"action\": \"HOLD\"}, {\"date\": \"2020-08-25T00:00:00\", \"actual\": 1608.219970703125, \"position\": 1588.199951171875, \"action\": \"HOLD\"}, {\"date\": \"2020-08-26T00:00:00\", \"actual\": 1652.3800048828125, \"position\": 1608.219970703125, \"action\": \"HOLD\"}, {\"date\": \"2020-08-27T00:00:00\", \"actual\": 1634.3299560546875, \"position\": 1652.3800048828125, \"action\": \"HOLD\"}, {\"date\": \"2020-08-28T00:00:00\", \"actual\": 1644.4100341796875, \"position\": 1634.3299560546875, \"action\": \"HOLD\"}, {\"date\": \"2020-08-31T00:00:00\", \"actual\": 1634.1800537109375, \"position\": 1644.4100341796875, \"action\": \"HOLD\"}, {\"date\": \"2020-09-01T00:00:00\", \"actual\": 1660.7099609375, \"position\": 1634.1800537109375, \"action\": \"HOLD\"}, {\"date\": \"2020-09-02T00:00:00\", \"actual\": 1728.280029296875, \"position\": 1660.7099609375, \"action\": \"HOLD\"}, {\"date\": \"2020-09-03T00:00:00\", \"actual\": 1641.8399658203125, \"position\": 1728.280029296875, \"action\": \"HOLD\"}, {\"date\": \"2020-09-04T00:00:00\", \"actual\": 1591.0400390625, \"position\": 1641.8399658203125, \"action\": \"HOLD\"}]}}, {\"mode\": \"vega-lite\"});\n",
       "</script>"
      ],
      "text/plain": [
       "alt.LayerChart(...)"
      ]
     },
     "execution_count": 7,
     "metadata": {},
     "output_type": "execute_result"
    }
   ],
   "source": [
    "chart = visualize(df, history, title=test_stock)\n",
    "chart"
   ]
  },
  {
   "cell_type": "code",
   "execution_count": null,
   "metadata": {},
   "outputs": [],
   "source": []
  }
 ],
 "metadata": {
  "kernelspec": {
   "display_name": "Python 3",
   "language": "python",
   "name": "python3"
  },
  "language_info": {
   "codemirror_mode": {
    "name": "ipython",
    "version": 3
   },
   "file_extension": ".py",
   "mimetype": "text/x-python",
   "name": "python",
   "nbconvert_exporter": "python",
   "pygments_lexer": "ipython3",
   "version": "3.7.9"
  }
 },
 "nbformat": 4,
 "nbformat_minor": 4
}

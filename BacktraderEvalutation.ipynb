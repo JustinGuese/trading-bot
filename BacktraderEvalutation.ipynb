{
 "cells": [
  {
   "cell_type": "markdown",
   "metadata": {},
   "source": [
    "# Visualization: Trading Session"
   ]
  },
  {
   "cell_type": "code",
   "execution_count": 1,
   "metadata": {},
   "outputs": [],
   "source": [
    "import pandas as pd\n",
    "import numpy as np\n",
    "\n",
    "import altair as alt\n",
    "import seaborn as sns"
   ]
  },
  {
   "cell_type": "markdown",
   "metadata": {},
   "source": [
    "### 1. Define parameters and Load model"
   ]
  },
  {
   "cell_type": "code",
   "execution_count": 2,
   "metadata": {},
   "outputs": [
    {
     "name": "stdout",
     "output_type": "stream",
     "text": [
      "WARNING:tensorflow:From /home/justin/miniconda3/envs/tf115/lib/python3.7/site-packages/tensorflow_core/python/ops/resource_variable_ops.py:1630: calling BaseResourceVariable.__init__ (from tensorflow.python.ops.resource_variable_ops) with constraint is deprecated and will be removed in a future version.\n",
      "Instructions for updating:\n",
      "If using Keras pass *_constraint arguments to layers.\n"
     ]
    },
    {
     "name": "stderr",
     "output_type": "stream",
     "text": [
      "Using TensorFlow backend.\n"
     ]
    },
    {
     "name": "stdout",
     "output_type": "stream",
     "text": [
      "WARNING:tensorflow:From /home/justin/Documents/AITrading/trading-botq/trading_bot/agent.py:25: where (from tensorflow.python.ops.array_ops) is deprecated and will be removed in a future version.\n",
      "Instructions for updating:\n",
      "Use tf.where in 2.0, which has the same broadcast rule as np.where\n",
      "WARNING:tensorflow:From /home/justin/miniconda3/envs/tf115/lib/python3.7/site-packages/keras/backend/tensorflow_backend.py:422: The name tf.global_variables is deprecated. Please use tf.compat.v1.global_variables instead.\n",
      "\n"
     ]
    }
   ],
   "source": [
    "from trading_bot.agent import Agent\n",
    "\n",
    "model_name = 'aaapl1mbig_4_2'\n",
    "test_stock = 'data/AAPL_1m_all.csv'\n",
    "window_size = 10\n",
    "debug = True\n",
    "\n",
    "agent = Agent(window_size, pretrained=True, model_name=model_name)"
   ]
  },
  {
   "cell_type": "markdown",
   "metadata": {},
   "source": [
    "### 2. Load test data"
   ]
  },
  {
   "cell_type": "markdown",
   "metadata": {},
   "source": [
    "### 3. Running Eval"
   ]
  },
  {
   "cell_type": "code",
   "execution_count": 3,
   "metadata": {},
   "outputs": [
    {
     "name": "stderr",
     "output_type": "stream",
     "text": [
      "2020-09-18 13:05:07 justin-desktop-ubuntu root[48022] DEBUG switching to TensorFlow for CPU\n",
      "2020-09-18 13:05:07 justin-desktop-ubuntu root[48022] DEBUG Buy at: $0.00\n"
     ]
    },
    {
     "name": "stdout",
     "output_type": "stream",
     "text": [
      "Index(['Open', 'High', 'Low', 'Close', 'Adj Close', 'Volume'], dtype='object')\n",
      "Data lerngth 2713\n"
     ]
    },
    {
     "name": "stderr",
     "output_type": "stream",
     "text": [
      "2020-09-18 13:05:13 justin-desktop-ubuntu root[48022] INFO aaapl1mbig_4_2: USELESS\n",
      "\n"
     ]
    },
    {
     "name": "stdout",
     "output_type": "stream",
     "text": [
      "Final decision:  HOLD  at  $0.00\n"
     ]
    }
   ],
   "source": [
    "import logging\n",
    "import coloredlogs\n",
    "\n",
    "from trading_bot.utils import show_eval_result, switch_k_backend_device, get_stock_data\n",
    "from trading_bot.methods import evaluate_model\n",
    "\n",
    "coloredlogs.install(level='DEBUG')\n",
    "switch_k_backend_device()\n",
    "\n",
    "test_data = get_stock_data(test_stock)\n",
    "initial_offset = test_data[\"Close\"][1] - test_data[\"Close\"][0]\n",
    "\n",
    "test_result, history, actionCollection = evaluate_model(agent, test_data, window_size, debug)\n",
    "show_eval_result(model_name, test_result, initial_offset)"
   ]
  },
  {
   "cell_type": "code",
   "execution_count": 4,
   "metadata": {},
   "outputs": [
    {
     "data": {
      "text/plain": [
       "(2713, 2714)"
      ]
     },
     "execution_count": 4,
     "metadata": {},
     "output_type": "execute_result"
    }
   ],
   "source": [
    "len(actionCollection),len(test_data) # <- should be same length (minus one for current pred)"
   ]
  },
  {
   "cell_type": "code",
   "execution_count": 5,
   "metadata": {},
   "outputs": [
    {
     "data": {
      "text/html": [
       "<div>\n",
       "<style scoped>\n",
       "    .dataframe tbody tr th:only-of-type {\n",
       "        vertical-align: middle;\n",
       "    }\n",
       "\n",
       "    .dataframe tbody tr th {\n",
       "        vertical-align: top;\n",
       "    }\n",
       "\n",
       "    .dataframe thead th {\n",
       "        text-align: right;\n",
       "    }\n",
       "</style>\n",
       "<table border=\"1\" class=\"dataframe\">\n",
       "  <thead>\n",
       "    <tr style=\"text-align: right;\">\n",
       "      <th></th>\n",
       "      <th>Open</th>\n",
       "      <th>High</th>\n",
       "      <th>Low</th>\n",
       "      <th>Close</th>\n",
       "      <th>realaction</th>\n",
       "    </tr>\n",
       "  </thead>\n",
       "  <tbody>\n",
       "    <tr>\n",
       "      <th>0</th>\n",
       "      <td>1.669300</td>\n",
       "      <td>1.914741</td>\n",
       "      <td>1.650401</td>\n",
       "      <td>0.004825</td>\n",
       "      <td>2.0</td>\n",
       "    </tr>\n",
       "    <tr>\n",
       "      <th>1</th>\n",
       "      <td>1.664362</td>\n",
       "      <td>1.721534</td>\n",
       "      <td>1.497221</td>\n",
       "      <td>0.004638</td>\n",
       "      <td>1.0</td>\n",
       "    </tr>\n",
       "    <tr>\n",
       "      <th>2</th>\n",
       "      <td>1.513730</td>\n",
       "      <td>1.974189</td>\n",
       "      <td>1.462632</td>\n",
       "      <td>0.004700</td>\n",
       "      <td>1.0</td>\n",
       "    </tr>\n",
       "    <tr>\n",
       "      <th>3</th>\n",
       "      <td>1.560649</td>\n",
       "      <td>1.642269</td>\n",
       "      <td>1.489809</td>\n",
       "      <td>0.004717</td>\n",
       "      <td>1.0</td>\n",
       "    </tr>\n",
       "    <tr>\n",
       "      <th>4</th>\n",
       "      <td>1.573241</td>\n",
       "      <td>1.699239</td>\n",
       "      <td>1.502433</td>\n",
       "      <td>0.004808</td>\n",
       "      <td>2.0</td>\n",
       "    </tr>\n",
       "  </tbody>\n",
       "</table>\n",
       "</div>"
      ],
      "text/plain": [
       "       Open      High       Low     Close  realaction\n",
       "0  1.669300  1.914741  1.650401  0.004825         2.0\n",
       "1  1.664362  1.721534  1.497221  0.004638         1.0\n",
       "2  1.513730  1.974189  1.462632  0.004700         1.0\n",
       "3  1.560649  1.642269  1.489809  0.004717         1.0\n",
       "4  1.573241  1.699239  1.502433  0.004808         2.0"
      ]
     },
     "execution_count": 5,
     "metadata": {},
     "output_type": "execute_result"
    }
   ],
   "source": [
    "test_data[\"realaction\"] = np.sign(test_data[\"Close\"].pct_change().shift(-1))\n",
    "# we use 2 to sell, 1 to buy, 0 to hold\n",
    "test_data[\"realaction\"][test_data[\"realaction\"]==-1.] = 2.\n",
    "realActions = test_data[\"realaction\"].values\n",
    "# the last entry is the next day entry, we need to skip it\n",
    "realActions = realActions[:-1]\n",
    "test_data.head()"
   ]
  },
  {
   "cell_type": "code",
   "execution_count": 6,
   "metadata": {},
   "outputs": [],
   "source": [
    "#for i in range(15):\n",
    "#    print(realActions[i],actionCollection[i])"
   ]
  },
  {
   "cell_type": "code",
   "execution_count": 7,
   "metadata": {},
   "outputs": [
    {
     "name": "stdout",
     "output_type": "stream",
     "text": [
      "              precision    recall  f1-score   support\n",
      "\n",
      "        hold       0.01      1.00      0.03        37\n",
      "         buy       0.00      0.00      0.00      1311\n",
      "        sell       0.00      0.00      0.00      1365\n",
      "\n",
      "    accuracy                           0.01      2713\n",
      "   macro avg       0.00      0.33      0.01      2713\n",
      "weighted avg       0.00      0.01      0.00      2713\n",
      "\n"
     ]
    },
    {
     "name": "stderr",
     "output_type": "stream",
     "text": [
      "/home/justin/miniconda3/envs/tf115/lib/python3.7/site-packages/sklearn/metrics/_classification.py:1221: UndefinedMetricWarning: Precision and F-score are ill-defined and being set to 0.0 in labels with no predicted samples. Use `zero_division` parameter to control this behavior.\n",
      "  _warn_prf(average, modifier, msg_start, len(result))\n"
     ]
    }
   ],
   "source": [
    "# basic implementation\n",
    "from sklearn.metrics import classification_report\n",
    "target_names = ['hold', 'buy', 'sell']\n",
    "cr = classification_report(realActions, actionCollection, target_names=target_names)\n",
    "print(cr)"
   ]
  },
  {
   "cell_type": "markdown",
   "metadata": {},
   "source": [
    "### 4. Visualize"
   ]
  },
  {
   "cell_type": "code",
   "execution_count": 8,
   "metadata": {},
   "outputs": [
    {
     "name": "stdout",
     "output_type": "stream",
     "text": [
      "<class 'pandas.core.frame.DataFrame'>\n",
      "DatetimeIndex: 2714 entries, 2020-09-09 09:30:00-04:00 to 2020-09-17 15:59:00-04:00\n",
      "Data columns (total 6 columns):\n",
      " #   Column     Non-Null Count  Dtype  \n",
      "---  ------     --------------  -----  \n",
      " 0   Open       2714 non-null   float64\n",
      " 1   High       2714 non-null   float64\n",
      " 2   Low        2714 non-null   float64\n",
      " 3   Close      2714 non-null   float64\n",
      " 4   Adj Close  2714 non-null   float64\n",
      " 5   Volume     2714 non-null   int64  \n",
      "dtypes: float64(5), int64(1)\n",
      "memory usage: 148.4 KB\n"
     ]
    }
   ],
   "source": [
    "try:\n",
    "    df = pd.read_csv(test_stock,index_col=\"Datetime\",parse_dates=[\"Datetime\"])\n",
    "except ValueError:\n",
    "    df = pd.read_csv(test_stock,index_col=\"Date\",parse_dates=[\"Date\"])\n",
    "df.info()"
   ]
  },
  {
   "cell_type": "code",
   "execution_count": 9,
   "metadata": {},
   "outputs": [],
   "source": [
    "import backtrader as bt\n",
    "\n",
    "class SmaCross(bt.Strategy):\n",
    "\n",
    "    params = (\n",
    "        ('allowshorts',1),\n",
    "        ('printLog',False)\n",
    "    )\n",
    "\n",
    "    def __init__(self):\n",
    "        self.pos = 0\n",
    "        self.data_live = False\n",
    "        self.isShort = False\n",
    "        \n",
    "\n",
    "    def next(self):\n",
    "        for d in self.datas:\n",
    "            # print(dn,self.crosses[d._name][0])\n",
    "            pos = self.getposition(d).size\n",
    "            if self.pos < len(actionCollection):\n",
    "                action = actionCollection[self.pos]\n",
    "                if not pos:  # no market / no orders\n",
    "                    if action == 1:\n",
    "                        self.buy(data=d)\n",
    "                        self.isShort = False\n",
    "                    elif action == 2 and self.p.allowshorts == 1:\n",
    "                        self.sell(data=d)\n",
    "                        self.isShort = True\n",
    "                else:\n",
    "                    if action == 1 and self.isShort:\n",
    "                        self.close(data=d)\n",
    "                        #self.buy(data=d)\n",
    "                        #self.isShort = False\n",
    "                    elif action == 2 and not self.isShort:\n",
    "                        self.close(data=d)\n",
    "                        #self.sell(data=d)\n",
    "                        #self.isShort = True\n",
    "            else:\n",
    "                print(\"skip bc end of array\")\n",
    "            self.pos += 1\n",
    "\n",
    "    def notify_trade(self, trade):\n",
    "        dt = self.data.datetime.date()\n",
    "        if trade.isclosed and self.p.printLog:\n",
    "            print('{} {} Closed: PnL Gross {}, Net {}'.format(\n",
    "                                                dt,\n",
    "                                                trade.data._name,\n",
    "                                                round(trade.pnl,2),\n",
    "                                                round(trade.pnlcomm,2)))\n",
    "            \n",
    "    def notify_data(self, data, status, *args, **kwargs):\n",
    "        if status == data.LIVE:\n",
    "            self.data_live = True\n",
    "            print(\"yay Live data!\")\n"
   ]
  },
  {
   "cell_type": "code",
   "execution_count": 10,
   "metadata": {},
   "outputs": [
    {
     "name": "stdout",
     "output_type": "stream",
     "text": [
      "skip bc end of array\n",
      "-549.008133018222\n"
     ]
    }
   ],
   "source": [
    "cerebro = bt.Cerebro(optreturn=True,maxcpus=None,cheat_on_open=True) # cheat on open bc i can instantly buy if signal appears\n",
    "data = bt.feeds.PandasData(dataname=df)\n",
    "\n",
    "startcash = 10000   \n",
    "# Set our desired cash start\n",
    "cerebro.broker.setcash(startcash)\n",
    "# for stock in self.stocks:\n",
    "cerebro.adddata(data)\n",
    "\n",
    "# strategy\n",
    "# cerebro.addstrategy(SmaCross, pfast=2,pslow=6) # not used bc opt strategy\n",
    "\n",
    "cerebro.addstrategy(SmaCross) # https://backtest-rookies.com/2017/06/26/optimize-strategies-backtrader/\n",
    "\n",
    "\n",
    "# cerebro.optstrategy(SmaCross, pfast=pfast,pslow=pslow) # https://backtest-rookies.com/2017/06/26/optimize-strategies-backtrader/\n",
    "\n",
    "# add analyzer\n",
    "cerebro.addanalyzer(bt.analyzers.SharpeRatio, _name='SharpeRatio') #  timeframe=bt.TimeFrame.Months\n",
    "cerebro.addanalyzer(bt.analyzers.DrawDown, _name='DrawDown') #  timeframe=bt.TimeFrame.Months\n",
    "cerebro.addanalyzer(bt.analyzers.Returns, _name='Returns') #  timeframe=bt.TimeFrame.Months\n",
    "cerebro.addanalyzer(bt.analyzers.SQN, _name='SQN') #  timeframe=bt.TimeFrame.Months\n",
    "\n",
    "\n",
    "# sizer\n",
    "cerebro.addsizer(bt.sizers.PercentSizer, percents=98)\n",
    "\n",
    "results = cerebro.run()\n",
    "end = cerebro.broker.get_value() - startcash\n",
    "print(end)"
   ]
  },
  {
   "cell_type": "code",
   "execution_count": 11,
   "metadata": {},
   "outputs": [
    {
     "name": "stderr",
     "output_type": "stream",
     "text": [
      "2020-09-18 13:05:14 justin-desktop-ubuntu matplotlib.pyplot[48022] DEBUG Loaded backend module://ipykernel.pylab.backend_inline version unknown.\n",
      "2020-09-18 13:05:14 justin-desktop-ubuntu matplotlib.pyplot[48022] DEBUG Loaded backend TkAgg version unknown.\n"
     ]
    },
    {
     "data": {
      "text/plain": [
       "[[<Figure size 432x288 with 4 Axes>]]"
      ]
     },
     "execution_count": 11,
     "metadata": {},
     "output_type": "execute_result"
    }
   ],
   "source": [
    "%matplotlib inline\n",
    "cerebro.plot(iplot=False)"
   ]
  },
  {
   "cell_type": "code",
   "execution_count": 12,
   "metadata": {},
   "outputs": [
    {
     "name": "stdout",
     "output_type": "stream",
     "text": [
      "\n",
      "\n",
      "Sharpe Ratio:  None\n",
      "Avg Drawdown: 7.62 pct, Max Drawdown: 8.73 pct\n",
      "Yearly return -86.90 pct, Monthly return -7.24 pct\n",
      "SQN: 0.000000, nr of trades: 0\n",
      "SQN Evaluation: below average\n"
     ]
    }
   ],
   "source": [
    "def sqn_eval(nr):\n",
    "    if nr <= 1.9:\n",
    "        return \"below average\"\n",
    "    elif nr <= 2.4:\n",
    "        return \"average\"\n",
    "    elif nr <= 2.9:\n",
    "        return \"good\"\n",
    "    elif nr <= 5.:\n",
    "        return \"excellent\"\n",
    "    elif nr <= 6.9:\n",
    "        return \"superb\"\n",
    "    elif nr > 6.9:\n",
    "        return \"HOLY GRAIL - $$$\"\n",
    "    else:\n",
    "        return \"ERROR\"\n",
    "\n",
    "def single_analytics(results,cerebro,startcash,printout=False):\n",
    "    #sharpe\n",
    "    sharper = results[0].analyzers.SharpeRatio.get_analysis()[\"sharperatio\"]\n",
    "\n",
    "    # drawdown\n",
    "    maxdrawdown = results[0].analyzers.DrawDown.get_analysis().max.drawdown\n",
    "    avgdrawdown = results[0].analyzers.DrawDown.get_analysis().drawdown\n",
    "    # returns\n",
    "    annualreturnpct = results[0].analyzers.Returns.get_analysis()[\"rnorm100\"]\n",
    "    monthlyreturnpct = annualreturnpct / 12\n",
    "    # SQN SystemQualityNumber - https://www.backtrader.com/docu/analyzers-reference/\n",
    "    sqn, nrtrades = results[0].analyzers.SQN.get_analysis()[\"sqn\"],results[0].analyzers.SQN.get_analysis()[\"trades\"]\n",
    "    #Print out the final result\n",
    "    if printout:\n",
    "        print(\"\\n\")\n",
    "        print('Sharpe Ratio: ', sharper)\n",
    "        print(\"Avg Drawdown: %.2f pct, Max Drawdown: %.2f pct\"%(avgdrawdown,maxdrawdown))\n",
    "        print(\"Yearly return %.2f pct, Monthly return %.2f pct\"%(annualreturnpct,monthlyreturnpct))\n",
    "        print(\"SQN: %f, nr of trades: %d\"%(sqn,nrtrades))\n",
    "        print(\"SQN Evaluation: %s\"%sqn_eval(sqn))\n",
    "    return sharper,sqn,nrtrades,avgdrawdown,maxdrawdown,annualreturnpct,monthlyreturnpct\n",
    "\n",
    "sharper,sqn,nrtrades,avgdrawdown,maxdrawdown,annualreturnpct,monthlyreturnpct = single_analytics(results,cerebro,startcash,printout=True)"
   ]
  },
  {
   "cell_type": "markdown",
   "metadata": {},
   "source": [
    "# data analysis\n",
    "\n",
    "## eurusd 1m 10\n",
    "\n",
    "Sharpe Ratio:  None\n",
    "\n",
    "Avg Drawdown: 0.15 pct, Max Drawdown: 0.30 pct\n",
    "\n",
    "Yearly return 66.65 pct, Monthly return 5.55 pct\n",
    "\n",
    "SQN: 1.155293, nr of trades: 210\n",
    "\n",
    "SQN Evaluation: below average"
   ]
  }
 ],
 "metadata": {
  "kernelspec": {
   "display_name": "Python 3",
   "language": "python",
   "name": "python3"
  },
  "language_info": {
   "codemirror_mode": {
    "name": "ipython",
    "version": 3
   },
   "file_extension": ".py",
   "mimetype": "text/x-python",
   "name": "python",
   "nbconvert_exporter": "python",
   "pygments_lexer": "ipython3",
   "version": "3.7.9"
  }
 },
 "nbformat": 4,
 "nbformat_minor": 4
}

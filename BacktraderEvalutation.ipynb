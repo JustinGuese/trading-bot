{
 "cells": [
  {
   "cell_type": "markdown",
   "metadata": {},
   "source": [
    "# Visualization: Trading Session"
   ]
  },
  {
   "cell_type": "code",
   "execution_count": 6,
   "metadata": {},
   "outputs": [],
   "source": [
    "import pandas as pd\n",
    "import numpy as np\n",
    "\n",
    "import altair as alt\n",
    "import seaborn as sns"
   ]
  },
  {
   "cell_type": "markdown",
   "metadata": {},
   "source": [
    "### 1. Define parameters and Load model"
   ]
  },
  {
   "cell_type": "code",
   "execution_count": 7,
   "metadata": {},
   "outputs": [],
   "source": [
    "from trading_bot.agent import Agent\n",
    "\n",
    "model_name = 'aaapl1mbig_4'\n",
    "test_stock = 'data/AAPLtest.csv'\n",
    "window_size = 10\n",
    "debug = True\n",
    "\n",
    "agent = Agent(window_size, pretrained=True, model_name=model_name)"
   ]
  },
  {
   "cell_type": "markdown",
   "metadata": {},
   "source": [
    "### 2. Load test data"
   ]
  },
  {
   "cell_type": "markdown",
   "metadata": {},
   "source": [
    "### 3. Running Eval"
   ]
  },
  {
   "cell_type": "code",
   "execution_count": 8,
   "metadata": {},
   "outputs": [
    {
     "name": "stderr",
     "output_type": "stream",
     "text": [
      "2020-09-17 13:52:52 justin-desktop-ubuntu root[17554] DEBUG switching to TensorFlow for CPU\n",
      "2020-09-17 13:52:52 justin-desktop-ubuntu root[17554] DEBUG Buy at: $11.05\n",
      "2020-09-17 13:52:52 justin-desktop-ubuntu root[17554] INFO aaapl1mbig_4: USELESS\n",
      "\n"
     ]
    },
    {
     "name": "stdout",
     "output_type": "stream",
     "text": [
      "Data lerngth 49\n",
      "Final decision:  HOLD  at  $11.26\n"
     ]
    }
   ],
   "source": [
    "import logging\n",
    "import coloredlogs\n",
    "\n",
    "from trading_bot.utils import show_eval_result, switch_k_backend_device, get_stock_data\n",
    "from trading_bot.methods import evaluate_model\n",
    "\n",
    "coloredlogs.install(level='DEBUG')\n",
    "switch_k_backend_device()\n",
    "\n",
    "test_data = get_stock_data(test_stock)\n",
    "initial_offset = test_data[\"Close\"][1] - test_data[\"Close\"][0]\n",
    "\n",
    "test_result, history, actionCollection = evaluate_model(agent, test_data, window_size, debug)\n",
    "show_eval_result(model_name, test_result, initial_offset)"
   ]
  },
  {
   "cell_type": "code",
   "execution_count": 9,
   "metadata": {},
   "outputs": [
    {
     "data": {
      "text/plain": [
       "(49, 50)"
      ]
     },
     "execution_count": 9,
     "metadata": {},
     "output_type": "execute_result"
    }
   ],
   "source": [
    "len(actionCollection),len(test_data) # <- should be same length (minus one for current pred)"
   ]
  },
  {
   "cell_type": "code",
   "execution_count": 10,
   "metadata": {},
   "outputs": [
    {
     "data": {
      "text/html": [
       "<div>\n",
       "<style scoped>\n",
       "    .dataframe tbody tr th:only-of-type {\n",
       "        vertical-align: middle;\n",
       "    }\n",
       "\n",
       "    .dataframe tbody tr th {\n",
       "        vertical-align: top;\n",
       "    }\n",
       "\n",
       "    .dataframe thead th {\n",
       "        text-align: right;\n",
       "    }\n",
       "</style>\n",
       "<table border=\"1\" class=\"dataframe\">\n",
       "  <thead>\n",
       "    <tr style=\"text-align: right;\">\n",
       "      <th></th>\n",
       "      <th>High</th>\n",
       "      <th>Low</th>\n",
       "      <th>Close</th>\n",
       "      <th>Volume</th>\n",
       "      <th>realaction</th>\n",
       "    </tr>\n",
       "  </thead>\n",
       "  <tbody>\n",
       "    <tr>\n",
       "      <th>0</th>\n",
       "      <td>11.119617</td>\n",
       "      <td>11.025241</td>\n",
       "      <td>11.051266</td>\n",
       "      <td>3.545151</td>\n",
       "      <td>1.0</td>\n",
       "    </tr>\n",
       "    <tr>\n",
       "      <th>1</th>\n",
       "      <td>11.196168</td>\n",
       "      <td>11.097075</td>\n",
       "      <td>11.155034</td>\n",
       "      <td>1.226301</td>\n",
       "      <td>2.0</td>\n",
       "    </tr>\n",
       "    <tr>\n",
       "      <th>2</th>\n",
       "      <td>11.136902</td>\n",
       "      <td>11.084690</td>\n",
       "      <td>11.048796</td>\n",
       "      <td>2.557836</td>\n",
       "      <td>2.0</td>\n",
       "    </tr>\n",
       "    <tr>\n",
       "      <th>3</th>\n",
       "      <td>11.043066</td>\n",
       "      <td>11.037626</td>\n",
       "      <td>11.004324</td>\n",
       "      <td>2.355639</td>\n",
       "      <td>1.0</td>\n",
       "    </tr>\n",
       "    <tr>\n",
       "      <th>4</th>\n",
       "      <td>11.072699</td>\n",
       "      <td>11.050011</td>\n",
       "      <td>11.033972</td>\n",
       "      <td>2.654514</td>\n",
       "      <td>2.0</td>\n",
       "    </tr>\n",
       "  </tbody>\n",
       "</table>\n",
       "</div>"
      ],
      "text/plain": [
       "        High        Low      Close    Volume  realaction\n",
       "0  11.119617  11.025241  11.051266  3.545151         1.0\n",
       "1  11.196168  11.097075  11.155034  1.226301         2.0\n",
       "2  11.136902  11.084690  11.048796  2.557836         2.0\n",
       "3  11.043066  11.037626  11.004324  2.355639         1.0\n",
       "4  11.072699  11.050011  11.033972  2.654514         2.0"
      ]
     },
     "execution_count": 10,
     "metadata": {},
     "output_type": "execute_result"
    }
   ],
   "source": [
    "test_data[\"realaction\"] = np.sign(test_data[\"Close\"].pct_change().shift(-1))\n",
    "# we use 2 to sell, 1 to buy, 0 to hold\n",
    "test_data[\"realaction\"][test_data[\"realaction\"]==-1.] = 2.\n",
    "realActions = test_data[\"realaction\"].values\n",
    "# the last entry is the next day entry, we need to skip it\n",
    "realActions = realActions[:-1]\n",
    "test_data.head()"
   ]
  },
  {
   "cell_type": "code",
   "execution_count": 11,
   "metadata": {},
   "outputs": [],
   "source": [
    "#for i in range(15):\n",
    "#    print(realActions[i],actionCollection[i])"
   ]
  },
  {
   "cell_type": "code",
   "execution_count": 12,
   "metadata": {},
   "outputs": [
    {
     "name": "stdout",
     "output_type": "stream",
     "text": [
      "              precision    recall  f1-score   support\n",
      "\n",
      "        hold       0.02      1.00      0.04         1\n",
      "         buy       1.00      0.04      0.07        28\n",
      "        sell       0.00      0.00      0.00        20\n",
      "\n",
      "    accuracy                           0.04        49\n",
      "   macro avg       0.34      0.35      0.04        49\n",
      "weighted avg       0.57      0.04      0.04        49\n",
      "\n"
     ]
    },
    {
     "name": "stderr",
     "output_type": "stream",
     "text": [
      "/home/justin/miniconda3/envs/tf115/lib/python3.7/site-packages/sklearn/metrics/_classification.py:1221: UndefinedMetricWarning: Precision and F-score are ill-defined and being set to 0.0 in labels with no predicted samples. Use `zero_division` parameter to control this behavior.\n",
      "  _warn_prf(average, modifier, msg_start, len(result))\n"
     ]
    }
   ],
   "source": [
    "# basic implementation\n",
    "from sklearn.metrics import classification_report\n",
    "target_names = ['hold', 'buy', 'sell']\n",
    "cr = classification_report(realActions, actionCollection, target_names=target_names)\n",
    "print(cr)"
   ]
  },
  {
   "cell_type": "markdown",
   "metadata": {},
   "source": [
    "### 4. Visualize"
   ]
  },
  {
   "cell_type": "code",
   "execution_count": 15,
   "metadata": {},
   "outputs": [
    {
     "name": "stdout",
     "output_type": "stream",
     "text": [
      "<class 'pandas.core.frame.DataFrame'>\n",
      "DatetimeIndex: 50 entries, 2019-01-02 09:31:00 to 2019-01-02 10:20:00\n",
      "Data columns (total 5 columns):\n",
      " #   Column  Non-Null Count  Dtype  \n",
      "---  ------  --------------  -----  \n",
      " 0   Open    50 non-null     float64\n",
      " 1   High    50 non-null     float64\n",
      " 2   Low     50 non-null     float64\n",
      " 3   Close   50 non-null     float64\n",
      " 4   Volume  50 non-null     int64  \n",
      "dtypes: float64(4), int64(1)\n",
      "memory usage: 2.3 KB\n"
     ]
    }
   ],
   "source": [
    "try:\n",
    "    df = pd.read_csv(test_stock,index_col=\"Datetime\",parse_dates=[\"Datetime\"])\n",
    "except ValueError:\n",
    "    df = pd.read_csv(test_stock,index_col=\"Date\",parse_dates=[\"Date\"])\n",
    "df.info()"
   ]
  },
  {
   "cell_type": "code",
   "execution_count": 16,
   "metadata": {},
   "outputs": [],
   "source": [
    "import backtrader as bt\n",
    "\n",
    "class SmaCross(bt.Strategy):\n",
    "\n",
    "    params = (\n",
    "        ('allowshorts',1),\n",
    "        ('printLog',False)\n",
    "    )\n",
    "\n",
    "    def __init__(self):\n",
    "        self.pos = 0\n",
    "        self.data_live = False\n",
    "        self.isShort = False\n",
    "        \n",
    "\n",
    "    def next(self):\n",
    "        for d in self.datas:\n",
    "            # print(dn,self.crosses[d._name][0])\n",
    "            pos = self.getposition(d).size\n",
    "            if self.pos < len(actionCollection):\n",
    "                action = actionCollection[self.pos]\n",
    "                if not pos:  # no market / no orders\n",
    "                    if action == 1:\n",
    "                        self.buy(data=d)\n",
    "                        self.isShort = False\n",
    "                    elif action == 2 and self.p.allowshorts == 1:\n",
    "                        self.sell(data=d)\n",
    "                        self.isShort = True\n",
    "                else:\n",
    "                    if action == 1 and self.isShort:\n",
    "                        self.close(data=d)\n",
    "                        #self.buy(data=d)\n",
    "                        #self.isShort = False\n",
    "                    elif action == 2 and not self.isShort:\n",
    "                        self.close(data=d)\n",
    "                        #self.sell(data=d)\n",
    "                        #self.isShort = True\n",
    "            else:\n",
    "                print(\"skip bc end of array\")\n",
    "            self.pos += 1\n",
    "\n",
    "    def notify_trade(self, trade):\n",
    "        dt = self.data.datetime.date()\n",
    "        if trade.isclosed and self.p.printLog:\n",
    "            print('{} {} Closed: PnL Gross {}, Net {}'.format(\n",
    "                                                dt,\n",
    "                                                trade.data._name,\n",
    "                                                round(trade.pnl,2),\n",
    "                                                round(trade.pnlcomm,2)))\n",
    "            \n",
    "    def notify_data(self, data, status, *args, **kwargs):\n",
    "        if status == data.LIVE:\n",
    "            self.data_live = True\n",
    "            print(\"yay Live data!\")\n"
   ]
  },
  {
   "cell_type": "code",
   "execution_count": 17,
   "metadata": {},
   "outputs": [
    {
     "name": "stdout",
     "output_type": "stream",
     "text": [
      "skip bc end of array\n",
      "48.107479653790506\n"
     ]
    }
   ],
   "source": [
    "cerebro = bt.Cerebro(optreturn=True,maxcpus=None,cheat_on_open=True) # cheat on open bc i can instantly buy if signal appears\n",
    "data = bt.feeds.PandasData(dataname=df)\n",
    "\n",
    "startcash = 10000   \n",
    "# Set our desired cash start\n",
    "cerebro.broker.setcash(startcash)\n",
    "# for stock in self.stocks:\n",
    "cerebro.adddata(data)\n",
    "\n",
    "# strategy\n",
    "# cerebro.addstrategy(SmaCross, pfast=2,pslow=6) # not used bc opt strategy\n",
    "\n",
    "cerebro.addstrategy(SmaCross) # https://backtest-rookies.com/2017/06/26/optimize-strategies-backtrader/\n",
    "\n",
    "\n",
    "# cerebro.optstrategy(SmaCross, pfast=pfast,pslow=pslow) # https://backtest-rookies.com/2017/06/26/optimize-strategies-backtrader/\n",
    "\n",
    "# add analyzer\n",
    "cerebro.addanalyzer(bt.analyzers.SharpeRatio, _name='SharpeRatio') #  timeframe=bt.TimeFrame.Months\n",
    "cerebro.addanalyzer(bt.analyzers.DrawDown, _name='DrawDown') #  timeframe=bt.TimeFrame.Months\n",
    "cerebro.addanalyzer(bt.analyzers.Returns, _name='Returns') #  timeframe=bt.TimeFrame.Months\n",
    "cerebro.addanalyzer(bt.analyzers.SQN, _name='SQN') #  timeframe=bt.TimeFrame.Months\n",
    "\n",
    "\n",
    "# sizer\n",
    "cerebro.addsizer(bt.sizers.PercentSizer, percents=98)\n",
    "\n",
    "results = cerebro.run()\n",
    "end = cerebro.broker.get_value() - startcash\n",
    "print(end)"
   ]
  },
  {
   "cell_type": "code",
   "execution_count": 20,
   "metadata": {},
   "outputs": [
    {
     "name": "stderr",
     "output_type": "stream",
     "text": [
      "2020-09-17 14:15:35 justin-desktop-ubuntu matplotlib.pyplot[17554] DEBUG Loaded backend module://ipykernel.pylab.backend_inline version unknown.\n",
      "2020-09-17 14:15:35 justin-desktop-ubuntu matplotlib.pyplot[17554] DEBUG Loaded backend TkAgg version unknown.\n"
     ]
    },
    {
     "ename": "ImportError",
     "evalue": "cannot import name 'warnings' from 'matplotlib.dates' (/home/justin/miniconda3/envs/tf115/lib/python3.7/site-packages/matplotlib/dates.py)",
     "output_type": "error",
     "traceback": [
      "\u001b[0;31m---------------------------------------------------------------------------\u001b[0m",
      "\u001b[0;31mImportError\u001b[0m                               Traceback (most recent call last)",
      "\u001b[0;32m<ipython-input-20-6c04079bad46>\u001b[0m in \u001b[0;36m<module>\u001b[0;34m\u001b[0m\n\u001b[1;32m      1\u001b[0m \u001b[0mget_ipython\u001b[0m\u001b[0;34m(\u001b[0m\u001b[0;34m)\u001b[0m\u001b[0;34m.\u001b[0m\u001b[0mrun_line_magic\u001b[0m\u001b[0;34m(\u001b[0m\u001b[0;34m'matplotlib'\u001b[0m\u001b[0;34m,\u001b[0m \u001b[0;34m'inline'\u001b[0m\u001b[0;34m)\u001b[0m\u001b[0;34m\u001b[0m\u001b[0;34m\u001b[0m\u001b[0m\n\u001b[0;32m----> 2\u001b[0;31m \u001b[0mcerebro\u001b[0m\u001b[0;34m.\u001b[0m\u001b[0mplot\u001b[0m\u001b[0;34m(\u001b[0m\u001b[0miplot\u001b[0m\u001b[0;34m=\u001b[0m\u001b[0;32mFalse\u001b[0m\u001b[0;34m)\u001b[0m\u001b[0;34m\u001b[0m\u001b[0;34m\u001b[0m\u001b[0m\n\u001b[0m",
      "\u001b[0;32m~/miniconda3/envs/tf115/lib/python3.7/site-packages/backtrader/cerebro.py\u001b[0m in \u001b[0;36mplot\u001b[0;34m(self, plotter, numfigs, iplot, start, end, width, height, dpi, tight, use, **kwargs)\u001b[0m\n\u001b[1;32m    972\u001b[0m \u001b[0;34m\u001b[0m\u001b[0m\n\u001b[1;32m    973\u001b[0m         \u001b[0;32mif\u001b[0m \u001b[0;32mnot\u001b[0m \u001b[0mplotter\u001b[0m\u001b[0;34m:\u001b[0m\u001b[0;34m\u001b[0m\u001b[0;34m\u001b[0m\u001b[0m\n\u001b[0;32m--> 974\u001b[0;31m             \u001b[0;32mfrom\u001b[0m \u001b[0;34m.\u001b[0m \u001b[0;32mimport\u001b[0m \u001b[0mplot\u001b[0m\u001b[0;34m\u001b[0m\u001b[0;34m\u001b[0m\u001b[0m\n\u001b[0m\u001b[1;32m    975\u001b[0m             \u001b[0;32mif\u001b[0m \u001b[0mself\u001b[0m\u001b[0;34m.\u001b[0m\u001b[0mp\u001b[0m\u001b[0;34m.\u001b[0m\u001b[0moldsync\u001b[0m\u001b[0;34m:\u001b[0m\u001b[0;34m\u001b[0m\u001b[0;34m\u001b[0m\u001b[0m\n\u001b[1;32m    976\u001b[0m                 \u001b[0mplotter\u001b[0m \u001b[0;34m=\u001b[0m \u001b[0mplot\u001b[0m\u001b[0;34m.\u001b[0m\u001b[0mPlot_OldSync\u001b[0m\u001b[0;34m(\u001b[0m\u001b[0;34m**\u001b[0m\u001b[0mkwargs\u001b[0m\u001b[0;34m)\u001b[0m\u001b[0;34m\u001b[0m\u001b[0;34m\u001b[0m\u001b[0m\n",
      "\u001b[0;32m~/miniconda3/envs/tf115/lib/python3.7/site-packages/backtrader/plot/__init__.py\u001b[0m in \u001b[0;36m<module>\u001b[0;34m\u001b[0m\n\u001b[1;32m     40\u001b[0m \u001b[0;34m\u001b[0m\u001b[0m\n\u001b[1;32m     41\u001b[0m \u001b[0;34m\u001b[0m\u001b[0m\n\u001b[0;32m---> 42\u001b[0;31m \u001b[0;32mfrom\u001b[0m \u001b[0;34m.\u001b[0m\u001b[0mplot\u001b[0m \u001b[0;32mimport\u001b[0m \u001b[0mPlot\u001b[0m\u001b[0;34m,\u001b[0m \u001b[0mPlot_OldSync\u001b[0m\u001b[0;34m\u001b[0m\u001b[0;34m\u001b[0m\u001b[0m\n\u001b[0m\u001b[1;32m     43\u001b[0m \u001b[0;32mfrom\u001b[0m \u001b[0;34m.\u001b[0m\u001b[0mscheme\u001b[0m \u001b[0;32mimport\u001b[0m \u001b[0mPlotScheme\u001b[0m\u001b[0;34m\u001b[0m\u001b[0;34m\u001b[0m\u001b[0m\n",
      "\u001b[0;32m~/miniconda3/envs/tf115/lib/python3.7/site-packages/backtrader/plot/plot.py\u001b[0m in \u001b[0;36m<module>\u001b[0;34m\u001b[0m\n\u001b[1;32m     42\u001b[0m \u001b[0;32mfrom\u001b[0m \u001b[0;34m.\u001b[0m\u001b[0mfinance\u001b[0m \u001b[0;32mimport\u001b[0m \u001b[0mplot_candlestick\u001b[0m\u001b[0;34m,\u001b[0m \u001b[0mplot_ohlc\u001b[0m\u001b[0;34m,\u001b[0m \u001b[0mplot_volume\u001b[0m\u001b[0;34m,\u001b[0m \u001b[0mplot_lineonclose\u001b[0m\u001b[0;34m\u001b[0m\u001b[0;34m\u001b[0m\u001b[0m\n\u001b[1;32m     43\u001b[0m \u001b[0;32mfrom\u001b[0m \u001b[0;34m.\u001b[0m\u001b[0mformatters\u001b[0m \u001b[0;32mimport\u001b[0m \u001b[0;34m(\u001b[0m\u001b[0mMyVolFormatter\u001b[0m\u001b[0;34m,\u001b[0m \u001b[0mMyDateFormatter\u001b[0m\u001b[0;34m,\u001b[0m \u001b[0mgetlocator\u001b[0m\u001b[0;34m)\u001b[0m\u001b[0;34m\u001b[0m\u001b[0;34m\u001b[0m\u001b[0m\n\u001b[0;32m---> 44\u001b[0;31m \u001b[0;32mfrom\u001b[0m \u001b[0;34m.\u001b[0m \u001b[0;32mimport\u001b[0m \u001b[0mlocator\u001b[0m \u001b[0;32mas\u001b[0m \u001b[0mloc\u001b[0m\u001b[0;34m\u001b[0m\u001b[0;34m\u001b[0m\u001b[0m\n\u001b[0m\u001b[1;32m     45\u001b[0m \u001b[0;32mfrom\u001b[0m \u001b[0;34m.\u001b[0m\u001b[0mmulticursor\u001b[0m \u001b[0;32mimport\u001b[0m \u001b[0mMultiCursor\u001b[0m\u001b[0;34m\u001b[0m\u001b[0;34m\u001b[0m\u001b[0m\n\u001b[1;32m     46\u001b[0m \u001b[0;32mfrom\u001b[0m \u001b[0;34m.\u001b[0m\u001b[0mscheme\u001b[0m \u001b[0;32mimport\u001b[0m \u001b[0mPlotScheme\u001b[0m\u001b[0;34m\u001b[0m\u001b[0;34m\u001b[0m\u001b[0m\n",
      "\u001b[0;32m~/miniconda3/envs/tf115/lib/python3.7/site-packages/backtrader/plot/locator.py\u001b[0m in \u001b[0;36m<module>\u001b[0;34m\u001b[0m\n\u001b[1;32m     33\u001b[0m \u001b[0;32mfrom\u001b[0m \u001b[0mmatplotlib\u001b[0m\u001b[0;34m.\u001b[0m\u001b[0mdates\u001b[0m \u001b[0;32mimport\u001b[0m \u001b[0mAutoDateFormatter\u001b[0m \u001b[0;32mas\u001b[0m \u001b[0mADFormatter\u001b[0m\u001b[0;34m\u001b[0m\u001b[0;34m\u001b[0m\u001b[0m\n\u001b[1;32m     34\u001b[0m \u001b[0;34m\u001b[0m\u001b[0m\n\u001b[0;32m---> 35\u001b[0;31m from matplotlib.dates import (HOURS_PER_DAY, MIN_PER_HOUR, SEC_PER_MIN,\n\u001b[0m\u001b[1;32m     36\u001b[0m                               \u001b[0mMONTHS_PER_YEAR\u001b[0m\u001b[0;34m,\u001b[0m \u001b[0mDAYS_PER_WEEK\u001b[0m\u001b[0;34m,\u001b[0m\u001b[0;34m\u001b[0m\u001b[0;34m\u001b[0m\u001b[0m\n\u001b[1;32m     37\u001b[0m                               \u001b[0mSEC_PER_HOUR\u001b[0m\u001b[0;34m,\u001b[0m \u001b[0mSEC_PER_DAY\u001b[0m\u001b[0;34m,\u001b[0m\u001b[0;34m\u001b[0m\u001b[0;34m\u001b[0m\u001b[0m\n",
      "\u001b[0;31mImportError\u001b[0m: cannot import name 'warnings' from 'matplotlib.dates' (/home/justin/miniconda3/envs/tf115/lib/python3.7/site-packages/matplotlib/dates.py)"
     ]
    }
   ],
   "source": [
    "%matplotlib inline\n",
    "cerebro.plot(iplot=False)"
   ]
  },
  {
   "cell_type": "code",
   "execution_count": null,
   "metadata": {},
   "outputs": [],
   "source": [
    "def sqn_eval(nr):\n",
    "    if nr <= 1.9:\n",
    "        return \"below average\"\n",
    "    elif nr <= 2.4:\n",
    "        return \"average\"\n",
    "    elif nr <= 2.9:\n",
    "        return \"good\"\n",
    "    elif nr <= 5.:\n",
    "        return \"excellent\"\n",
    "    elif nr <= 6.9:\n",
    "        return \"superb\"\n",
    "    elif nr > 6.9:\n",
    "        return \"HOLY GRAIL - $$$\"\n",
    "    else:\n",
    "        return \"ERROR\"\n",
    "\n",
    "def single_analytics(results,cerebro,startcash,printout=False):\n",
    "    #sharpe\n",
    "    sharper = results[0].analyzers.SharpeRatio.get_analysis()[\"sharperatio\"]\n",
    "\n",
    "    # drawdown\n",
    "    maxdrawdown = results[0].analyzers.DrawDown.get_analysis().max.drawdown\n",
    "    avgdrawdown = results[0].analyzers.DrawDown.get_analysis().drawdown\n",
    "    # returns\n",
    "    annualreturnpct = results[0].analyzers.Returns.get_analysis()[\"rnorm100\"]\n",
    "    monthlyreturnpct = annualreturnpct / 12\n",
    "    # SQN SystemQualityNumber - https://www.backtrader.com/docu/analyzers-reference/\n",
    "    sqn, nrtrades = results[0].analyzers.SQN.get_analysis()[\"sqn\"],results[0].analyzers.SQN.get_analysis()[\"trades\"]\n",
    "    #Print out the final result\n",
    "    if printout:\n",
    "        print(\"\\n\")\n",
    "        print('Sharpe Ratio: ', sharper)\n",
    "        print(\"Avg Drawdown: %.2f pct, Max Drawdown: %.2f pct\"%(avgdrawdown,maxdrawdown))\n",
    "        print(\"Yearly return %.2f pct, Monthly return %.2f pct\"%(annualreturnpct,monthlyreturnpct))\n",
    "        print(\"SQN: %f, nr of trades: %d\"%(sqn,nrtrades))\n",
    "        print(\"SQN Evaluation: %s\"%sqn_eval(sqn))\n",
    "    return sharper,sqn,nrtrades,avgdrawdown,maxdrawdown,annualreturnpct,monthlyreturnpct\n",
    "\n",
    "sharper,sqn,nrtrades,avgdrawdown,maxdrawdown,annualreturnpct,monthlyreturnpct = single_analytics(results,cerebro,startcash,printout=True)"
   ]
  },
  {
   "cell_type": "markdown",
   "metadata": {},
   "source": [
    "# data analysis\n",
    "\n",
    "## eurusd 1m 10\n",
    "\n",
    "Sharpe Ratio:  None\n",
    "\n",
    "Avg Drawdown: 0.15 pct, Max Drawdown: 0.30 pct\n",
    "\n",
    "Yearly return 66.65 pct, Monthly return 5.55 pct\n",
    "\n",
    "SQN: 1.155293, nr of trades: 210\n",
    "\n",
    "SQN Evaluation: below average"
   ]
  }
 ],
 "metadata": {
  "kernelspec": {
   "display_name": "Python 3",
   "language": "python",
   "name": "python3"
  },
  "language_info": {
   "codemirror_mode": {
    "name": "ipython",
    "version": 3
   },
   "file_extension": ".py",
   "mimetype": "text/x-python",
   "name": "python",
   "nbconvert_exporter": "python",
   "pygments_lexer": "ipython3",
   "version": "3.7.9"
  }
 },
 "nbformat": 4,
 "nbformat_minor": 4
}
